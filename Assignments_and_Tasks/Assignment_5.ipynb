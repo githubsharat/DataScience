{
 "cells": [
  {
   "cell_type": "markdown",
   "id": "c85ab543",
   "metadata": {},
   "source": [
    "#### Assignment_5"
   ]
  },
  {
   "cell_type": "markdown",
   "id": "71f02885",
   "metadata": {},
   "source": [
    "#### 1. What does an empty dictionary's code look like?\n",
    "\n",
    "Answer: {}"
   ]
  },
  {
   "cell_type": "markdown",
   "id": "56b6b104",
   "metadata": {},
   "source": [
    "#### 2. What is the value of a dictionary value with the key 'foo' and the value 42?\n",
    "\n",
    "Answer: 42"
   ]
  },
  {
   "cell_type": "code",
   "execution_count": 1,
   "id": "029b8842",
   "metadata": {},
   "outputs": [
    {
     "data": {
      "text/plain": [
       "42"
      ]
     },
     "execution_count": 1,
     "metadata": {},
     "output_type": "execute_result"
    }
   ],
   "source": [
    "dict1 = {'foo': 42}\n",
    "\n",
    "dict1['foo']"
   ]
  },
  {
   "cell_type": "markdown",
   "id": "dedec34e",
   "metadata": {},
   "source": [
    "#### 3. What is the most significant distinction between a dictionary and a list?\n",
    "\n",
    "Answer: The items in a dictionary are accessed using keys.In the case of a list, they are accessed by index / position."
   ]
  },
  {
   "cell_type": "markdown",
   "id": "34940494",
   "metadata": {},
   "source": [
    "#### 4. What happens if you try to access spam['foo'] if spam is {'bar': 100}?"
   ]
  },
  {
   "cell_type": "markdown",
   "id": "bcd9b90c",
   "metadata": {},
   "source": [
    "Answer: We get a Key Error as 'foo' is not a key in the spam dictionary"
   ]
  },
  {
   "cell_type": "markdown",
   "id": "3f9ba6ab",
   "metadata": {},
   "source": [
    "#### 5. If a dictionary is stored in spam, what is the difference between the expressions 'cat' in spam and 'cat' in spam.keys()?\n",
    "\n",
    "Answer: Both the expressions - 'cat' in spam ,  'cat' in spam.keys() result True "
   ]
  },
  {
   "cell_type": "code",
   "execution_count": 2,
   "id": "c596eaed",
   "metadata": {},
   "outputs": [
    {
     "data": {
      "text/plain": [
       "True"
      ]
     },
     "execution_count": 2,
     "metadata": {},
     "output_type": "execute_result"
    }
   ],
   "source": [
    "spam = {'bat':1, 'cat':2}\n",
    "\n",
    "'cat' in spam "
   ]
  },
  {
   "cell_type": "code",
   "execution_count": 3,
   "id": "3cc1ea6a",
   "metadata": {},
   "outputs": [
    {
     "data": {
      "text/plain": [
       "True"
      ]
     },
     "execution_count": 3,
     "metadata": {},
     "output_type": "execute_result"
    }
   ],
   "source": [
    "'cat'in spam.keys()"
   ]
  },
  {
   "cell_type": "markdown",
   "id": "4cb1553a",
   "metadata": {},
   "source": [
    "#### 6. If a dictionary is stored in spam, what is the difference between the expressions 'cat' in spam and 'cat' in spam.values()?"
   ]
  },
  {
   "cell_type": "markdown",
   "id": "aacbbc51",
   "metadata": {},
   "source": [
    "Answer: 'cat' is a key in spam dictionary, so, 'cat' in spam will result True but 'cat' in spam.values will ouput False"
   ]
  },
  {
   "cell_type": "code",
   "execution_count": 4,
   "id": "93889e8d",
   "metadata": {},
   "outputs": [
    {
     "data": {
      "text/plain": [
       "True"
      ]
     },
     "execution_count": 4,
     "metadata": {},
     "output_type": "execute_result"
    }
   ],
   "source": [
    "spam = {'bat':1, 'cat':2}\n",
    "\n",
    "'cat' in spam "
   ]
  },
  {
   "cell_type": "code",
   "execution_count": 5,
   "id": "7f3a5956",
   "metadata": {},
   "outputs": [
    {
     "data": {
      "text/plain": [
       "False"
      ]
     },
     "execution_count": 5,
     "metadata": {},
     "output_type": "execute_result"
    }
   ],
   "source": [
    "'cat' in spam.values()"
   ]
  },
  {
   "cell_type": "markdown",
   "id": "fb47934a",
   "metadata": {},
   "source": [
    "#### 7. What is a shortcut for the following code? \n",
    "if 'color' not in spam:    \n",
    "    spam['color'] = 'black'\n",
    "\n",
    "Answer: spam.setdefault('color', 'black')"
   ]
  },
  {
   "cell_type": "code",
   "execution_count": 6,
   "id": "b6435212",
   "metadata": {},
   "outputs": [
    {
     "data": {
      "text/plain": [
       "{'X': 2, 'A': 3, 'color': 'black'}"
      ]
     },
     "execution_count": 6,
     "metadata": {},
     "output_type": "execute_result"
    }
   ],
   "source": [
    "spam = {'X':2, 'A':3}\n",
    "\n",
    "spam.setdefault('color', 'black')\n",
    "\n",
    "spam"
   ]
  },
  {
   "cell_type": "markdown",
   "id": "6d045e7e",
   "metadata": {},
   "source": [
    "#### 8. How do you \"pretty print\" dictionary values using which module and function?\n",
    "Answer:\n",
    "\n",
    "Module: pprint        \n",
    "Function: pprint.pprint()"
   ]
  },
  {
   "cell_type": "code",
   "execution_count": 7,
   "id": "9a250f73",
   "metadata": {},
   "outputs": [
    {
     "name": "stdout",
     "output_type": "stream",
     "text": [
      "({'Age': '23', 'Country': 'USA', 'Name': 'John'},\n",
      " {'Age': '44', 'Country': 'Spain', 'Name': 'Jose'},\n",
      " {'Age': '29', 'Country': 'UK', 'Name': 'Anne'},\n",
      " {'Age': '35', 'Country': 'Japan', 'Name': 'Lee'})\n"
     ]
    }
   ],
   "source": [
    "dict1 = {'Name': 'John', 'Age': '23', 'Country': 'USA'}, {'Name': 'Jose', 'Age': '44', 'Country': 'Spain'}, {'Name': 'Anne', 'Age': '29', 'Country': 'UK'}, {'Name': 'Lee', 'Age': '35', 'Country': 'Japan'}\n",
    "\n",
    "import pprint\n",
    "\n",
    "pprint.pprint(dict1)"
   ]
  }
 ],
 "metadata": {
  "kernelspec": {
   "display_name": "Python 3 (ipykernel)",
   "language": "python",
   "name": "python3"
  },
  "language_info": {
   "codemirror_mode": {
    "name": "ipython",
    "version": 3
   },
   "file_extension": ".py",
   "mimetype": "text/x-python",
   "name": "python",
   "nbconvert_exporter": "python",
   "pygments_lexer": "ipython3",
   "version": "3.9.12"
  }
 },
 "nbformat": 4,
 "nbformat_minor": 5
}
