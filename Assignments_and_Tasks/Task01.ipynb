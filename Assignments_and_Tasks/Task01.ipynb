{
 "cells": [
  {
   "cell_type": "raw",
   "id": "d0803333",
   "metadata": {},
   "source": [
    "Task 1 Questions\n",
    "\n",
    "s = \"this is My First Python programming class and i am learNING python string and its function\"\n",
    "\n",
    "1 . Try to extract data from index one to index 30 with a jump of 3\n",
    "2. Try to reverse a string without using reverse function\n",
    "3. Try to split a string after conversion of entire string in uppercase\n",
    "4. try to convert the whole string into lower case\n",
    "5 . Try to capitalize the whole string\n",
    "6 . Write a difference between isalnum() and isalpha()\n",
    "7. Try to give an example of expand tab\n",
    "8 . Give an example of strip , lstrip and rstrip\n",
    "9. Replace a string character by another charactor by taking your own example\n",
    "10 . Try to give a definition of string centre function with and example\n",
    "11 . Write your own definition of compiler and interpretor without copy paste from internet in your own language\n",
    "12 . Is Python an interpreted or compiled language? Give a clear answer with your understanding\n",
    "13 . Try to write a few usecases of python with your understanding."
   ]
  },
  {
   "cell_type": "code",
   "execution_count": null,
   "id": "82c9c44d",
   "metadata": {},
   "outputs": [],
   "source": []
  },
  {
   "cell_type": "code",
   "execution_count": 1,
   "id": "0ce6dde4",
   "metadata": {},
   "outputs": [
    {
     "data": {
      "text/plain": [
       "'h   r tnrr'"
      ]
     },
     "execution_count": 1,
     "metadata": {},
     "output_type": "execute_result"
    }
   ],
   "source": [
    "#1  Try to extract data from index one to index 30 with a jump of 3\n",
    "\n",
    "s = \"this is My First Python programming class and i am learNING python string and its function\"\n",
    "s[1:30:3]"
   ]
  },
  {
   "cell_type": "code",
   "execution_count": 2,
   "id": "3534766a",
   "metadata": {},
   "outputs": [
    {
     "name": "stdout",
     "output_type": "stream",
     "text": [
      "noitcnuf sti dna gnirts nohtyp GNINrael ma i dna ssalc gnimmargorp nohtyP tsriF yM si siht\n"
     ]
    }
   ],
   "source": [
    "# 2. Try to reverse a string without using reverse function\n",
    "\n",
    "s = \"this is My First Python programming class and i am learNING python string and its function\"\n",
    "\n",
    "new_string = \"\"\n",
    "\n",
    "for i in range(len(s)):\n",
    "    new_string = new_string + s[len(s)-i-1]\n",
    "\n",
    "print(new_string)   \n",
    "    "
   ]
  },
  {
   "cell_type": "code",
   "execution_count": 3,
   "id": "05bd7b7c",
   "metadata": {},
   "outputs": [
    {
     "name": "stdout",
     "output_type": "stream",
     "text": [
      "['THIS', 'IS', 'MY', 'FIRST', 'PYTHON', 'PROGRAMMING', 'CLASS', 'AND', 'I', 'AM', 'LEARNING', 'PYTHON', 'STRING', 'AND', 'ITS', 'FUNCTION']\n"
     ]
    }
   ],
   "source": [
    "# 3. Try to split a string after conversion of entire string in uppercase\n",
    "\n",
    "s = \"this is My First Python programming class and i am learNING python string and its function\"\n",
    "\n",
    "s = s.upper().split()\n",
    "\n",
    "print(s)"
   ]
  },
  {
   "cell_type": "code",
   "execution_count": 4,
   "id": "c910e48e",
   "metadata": {},
   "outputs": [
    {
     "data": {
      "text/plain": [
       "'this is my first python programming class and i am learning python string and its function'"
      ]
     },
     "execution_count": 4,
     "metadata": {},
     "output_type": "execute_result"
    }
   ],
   "source": [
    "# 4. try to convert the whole string into lower case\n",
    "\n",
    "s = \"THIS IS MY FIRST PYTHON PROGRAMMING CLASS AND I AM LEARNING PYTHON STRING AND ITS FUNCTION\"\n",
    "\n",
    "s.lower()"
   ]
  },
  {
   "cell_type": "code",
   "execution_count": 5,
   "id": "b7d67896",
   "metadata": {},
   "outputs": [
    {
     "name": "stdout",
     "output_type": "stream",
     "text": [
      " This Is My First Python Programming Class And I Am Learning Python String And Its Function\n"
     ]
    }
   ],
   "source": [
    "# 5 . Try to capitalize the whole string\n",
    "\n",
    "s = \"this is My First Python programming class and i am learNING python string and its function\"\n",
    "\n",
    "s = s.split()\n",
    "c = ''\n",
    "for i in s:\n",
    "    c = c + ' '+i.capitalize()\n",
    "\n",
    "print(c)\n",
    "    \n"
   ]
  },
  {
   "cell_type": "raw",
   "id": "14081955",
   "metadata": {},
   "source": [
    "6 . Write a difference between isalnum() and isalpha()  \n",
    "\n",
    "isalnum() returns True only if all characters in the string are alpha numeric where as isalpha() returns True if all characters in string are alphabets.\n",
    "\n",
    "For numeric characters: isalpha() returns False but isalnum returns True  "
   ]
  },
  {
   "cell_type": "code",
   "execution_count": 6,
   "id": "da97679e",
   "metadata": {},
   "outputs": [
    {
     "name": "stdout",
     "output_type": "stream",
     "text": [
      "X       Y       A       B\n"
     ]
    }
   ],
   "source": [
    "# 7. Try to give an example of expand tab\n",
    "\n",
    "s = 'X\\tY\\tA\\tB'\n",
    "\n",
    "\n",
    "print(s.expandtabs())\n"
   ]
  },
  {
   "cell_type": "code",
   "execution_count": 7,
   "id": "4e9dfed0",
   "metadata": {},
   "outputs": [
    {
     "name": "stdout",
     "output_type": "stream",
     "text": [
      "This is test line\n",
      "This is test line    \n",
      "     This is test line\n"
     ]
    }
   ],
   "source": [
    "# 8 . Give an example of strip , lstrip and rstrip\n",
    "\n",
    "a =   \"     This is test line    \"\n",
    "\n",
    "print(a.strip()) #strips all spaces before 1st charatcer and after last character of the string\n",
    "\n",
    "print(a.lstrip()) # strips all spaces before 1st character of the string\n",
    "\n",
    "print(a.rstrip()) # strips all spaces after last character of the string\n"
   ]
  },
  {
   "cell_type": "code",
   "execution_count": 8,
   "id": "b79c0a31",
   "metadata": {},
   "outputs": [
    {
     "name": "stdout",
     "output_type": "stream",
     "text": [
      "Good Night!\n"
     ]
    }
   ],
   "source": [
    "# 9. Replace a string character by another character by taking your own example\n",
    "\n",
    "s = 'Good Morning!'\n",
    "s = s.replace('Morning', 'Night')\n",
    "print(s)"
   ]
  },
  {
   "cell_type": "code",
   "execution_count": 9,
   "id": "9e8a012a",
   "metadata": {},
   "outputs": [
    {
     "data": {
      "text/plain": [
       "'***Good Morning***'"
      ]
     },
     "execution_count": 9,
     "metadata": {},
     "output_type": "execute_result"
    }
   ],
   "source": [
    "# 10 . Try to give a definition of string centre function with and example\n",
    "\n",
    "# string center function inserts string at the center with any padding characters in the front and back of the string\n",
    "\n",
    "string = \"Good Morning\"\n",
    "new_string = string.center(18, '*')\n",
    "new_string"
   ]
  },
  {
   "cell_type": "markdown",
   "id": "b27d6822",
   "metadata": {},
   "source": [
    "11 . Write your own definition of compiler and interpretor without copy paste from internet in your own language\n",
    "\n",
    "Compiler translates the code  that we write into machine code. Machine code is a base level form of code which CPU executes. Programming languages such as C, C++ use compilers   \n",
    "\n",
    "Interpreter converts the code that we write into bytecode. Python uses interpreter."
   ]
  },
  {
   "cell_type": "markdown",
   "id": "af495aa9",
   "metadata": {},
   "source": [
    "12 . Is Python an interpreted or compiled language? Give a clear answer with your understanding\n",
    "\n",
    "From my understanding, Python is an interpreted language and not a compiled language.    \n",
    "Python code once written, is compiled into  byte code.    \n",
    "Where as in C or C++, once the code is written, it needs to be compiled which will translate the code to machine code.\n"
   ]
  },
  {
   "cell_type": "markdown",
   "id": "82c1015f",
   "metadata": {},
   "source": [
    "13 . Try to write some usecases of python with your understanding.\n",
    "\n",
    "1. Software Development   \n",
    "2. Data Science   \n",
    "3. Game Development   \n",
    "4. Web Development    \n",
    "5. Robotics   "
   ]
  },
  {
   "cell_type": "code",
   "execution_count": null,
   "id": "364f5263",
   "metadata": {},
   "outputs": [],
   "source": []
  }
 ],
 "metadata": {
  "kernelspec": {
   "display_name": "Python 3 (ipykernel)",
   "language": "python",
   "name": "python3"
  },
  "language_info": {
   "codemirror_mode": {
    "name": "ipython",
    "version": 3
   },
   "file_extension": ".py",
   "mimetype": "text/x-python",
   "name": "python",
   "nbconvert_exporter": "python",
   "pygments_lexer": "ipython3",
   "version": "3.9.12"
  }
 },
 "nbformat": 4,
 "nbformat_minor": 5
}
