{
 "cells": [
  {
   "cell_type": "markdown",
   "id": "a8e78265",
   "metadata": {},
   "source": [
    "#### 1. What exactly is [ ]?\n",
    "\n",
    "Answer: [ ] means empty list"
   ]
  },
  {
   "cell_type": "markdown",
   "id": "38723803",
   "metadata": {},
   "source": [
    "#### 2. In a list of values stored in a variable called spam, how would you assign the value 'hello' as the third value? \n",
    "#### (Assume [2, 4, 6, 8, 10] are in spam.). Let's pretend the spam includes the list ['a', 'b', 'c', 'd'] for the next three queries.\n",
    "\n",
    "Answer: I understood the question as the following:\n",
    "\n",
    "spam = [[2,4,6,8,10],['a','b','c','d'],['a','b','c','d'],['a','b','c','d']]       \n",
    "\n",
    "Third value (implies index = 2) should be \"Hello\" for each of the list in the collection    \n",
    "\n",
    "Following is the code:"
   ]
  },
  {
   "cell_type": "code",
   "execution_count": 1,
   "id": "6d90b603",
   "metadata": {},
   "outputs": [
    {
     "data": {
      "text/plain": [
       "[[2, 4, 'Hello', 8, 10],\n",
       " ['a', 'b', 'Hello', 'd'],\n",
       " ['a', 'b', 'Hello', 'd'],\n",
       " ['a', 'b', 'Hello', 'd']]"
      ]
     },
     "execution_count": 1,
     "metadata": {},
     "output_type": "execute_result"
    }
   ],
   "source": [
    "spam = [[2,4,6,8,10],['a','b','c','d'],['a','b','c','d'],['a','b','c','d']] \n",
    "\n",
    "def list_fun(lst): \n",
    "    new_list = []\n",
    "    for i in lst:\n",
    "        if lst.index(i) == 2:\n",
    "            new_list.append('Hello')\n",
    "        else:\n",
    "            new_list.append(i)\n",
    "    return new_list\n",
    "\n",
    "spam_updated = []\n",
    "\n",
    "for i in spam:\n",
    "    a = list_fun(i)\n",
    "    spam_updated.append(a)\n",
    "\n",
    "spam_updated"
   ]
  },
  {
   "cell_type": "markdown",
   "id": "9d5b11da",
   "metadata": {},
   "source": [
    "#### 3. What is the value of spam[int(int('3' * 2) / 11)]?\n",
    "\n",
    "Answer: ['a', 'b', 'c', 'd']\n",
    "\n",
    "Intution:  '3'*2 is read as '33', int('33') is 33, 33/11 = 3.0, int(3.0) = 3, spam[3] = ['a', 'b', 'c', 'd']"
   ]
  },
  {
   "cell_type": "markdown",
   "id": "f9f17857",
   "metadata": {},
   "source": [
    "#### 4. What is the value of spam[-1]?\n",
    "\n",
    "Answer: spam[-1] will give the last element of spam. That is ['a','b','c','d']"
   ]
  },
  {
   "cell_type": "markdown",
   "id": "3959cb0d",
   "metadata": {},
   "source": [
    "#### 5. What is the value of spam[:2]?\n",
    "\n",
    "Answer: spam[-2] will be the second last of spam. That is ['a','b','c','d']"
   ]
  },
  {
   "cell_type": "markdown",
   "id": "b07dae3f",
   "metadata": {},
   "source": [
    "#### Let's pretend bacon has the list [3.14, 'cat,' 11, 'cat,' True] for the next three questions.\n",
    "#### 6. What is the value of bacon.index('cat')?\n",
    "\n",
    "There is a typo in the question with 'cat,'. I corrected it as: 'cat',    \n",
    "\n",
    "Corrected list is [3.14, 'cat', 11, 'cat', True]   \n",
    "\n",
    "bacon = [3.14, 'cat', 11, 'cat', True]    \n",
    "\n",
    "**Answer: 1**\n",
    "\n",
    "bacon.index('cat') will give the index of element labelled 'cat' when it first encouters it. That is 1."
   ]
  },
  {
   "cell_type": "markdown",
   "id": "9d6e835a",
   "metadata": {},
   "source": [
    "#### 7. How does bacon.append(99) change the look of the list value in bacon?\n",
    "\n",
    "Answer: [3.14, 'cat,' 11, 'cat,' True, 99] "
   ]
  },
  {
   "cell_type": "markdown",
   "id": "25ae8ec0",
   "metadata": {},
   "source": [
    "#### 8. How does bacon.remove('cat') change the look of the list in bacon?\n",
    "\n",
    "Answer: [3.14, 11, 'cat', True]"
   ]
  },
  {
   "cell_type": "markdown",
   "id": "68354852",
   "metadata": {},
   "source": [
    "#### 9. What are the list concatenation and list replication operators?\n",
    "\n",
    "list concatenation is used to join two lists. Example code is below.\n",
    "\n",
    "list replication is used to replicate the elements of a list. Example code is below."
   ]
  },
  {
   "cell_type": "code",
   "execution_count": 2,
   "id": "e39b8ac2",
   "metadata": {},
   "outputs": [
    {
     "data": {
      "text/plain": [
       "[1, 2, 3, 4, 5, 6]"
      ]
     },
     "execution_count": 2,
     "metadata": {},
     "output_type": "execute_result"
    }
   ],
   "source": [
    "# list concatenation\n",
    "\n",
    "list1 = [1,2,3]\n",
    "list2 = [4,5,6]\n",
    "\n",
    "concat_lists = list1+list2\n",
    "\n",
    "concat_lists"
   ]
  },
  {
   "cell_type": "code",
   "execution_count": 3,
   "id": "9316cede",
   "metadata": {},
   "outputs": [
    {
     "data": {
      "text/plain": [
       "[1, 2, 3, 1, 2, 3, 1, 2, 3, 1, 2, 3, 1, 2, 3]"
      ]
     },
     "execution_count": 3,
     "metadata": {},
     "output_type": "execute_result"
    }
   ],
   "source": [
    "# List replication\n",
    "\n",
    "list1 = [1,2,3]\n",
    "replicate_list = list1*5\n",
    "\n",
    "replicate_list"
   ]
  },
  {
   "cell_type": "markdown",
   "id": "24873526",
   "metadata": {},
   "source": [
    "#### 10. What is difference between the list methods append() and insert()?\n",
    "\n",
    "append is use to add an element to a list. Example code is below.\n",
    "\n",
    "insert is use to add an element at a specified index. Example code is below."
   ]
  },
  {
   "cell_type": "code",
   "execution_count": 4,
   "id": "d3e14814",
   "metadata": {
    "scrolled": true
   },
   "outputs": [
    {
     "data": {
      "text/plain": [
       "[1, 2, 3, 4, 5]"
      ]
     },
     "execution_count": 4,
     "metadata": {},
     "output_type": "execute_result"
    }
   ],
   "source": [
    "# append\n",
    "\n",
    "lst = [1,2,3,4]\n",
    "lst.append(5)\n",
    "lst"
   ]
  },
  {
   "cell_type": "code",
   "execution_count": 5,
   "id": "0b354448",
   "metadata": {},
   "outputs": [
    {
     "data": {
      "text/plain": [
       "[1, 2, 3, 4, 5]"
      ]
     },
     "execution_count": 5,
     "metadata": {},
     "output_type": "execute_result"
    }
   ],
   "source": [
    "# insert\n",
    "\n",
    "lst = [1,2,4,5]\n",
    "\n",
    "#let's add 3 at index 2\n",
    "\n",
    "lst.insert(2, 3) #index is 2, element is 3\n",
    "lst"
   ]
  },
  {
   "cell_type": "markdown",
   "id": "f7d16cfc",
   "metadata": {},
   "source": [
    "#### 11. What are the two methods for removing items from a list?\n",
    "\n",
    "remove() and pop()"
   ]
  },
  {
   "cell_type": "markdown",
   "id": "3973aa30",
   "metadata": {},
   "source": [
    "#### 12. Describe how list values and string values are identical.\n",
    "\n",
    "They are indexed in a similar way.\n",
    "\n",
    "Let's say, a is a list, a[1] will give the 1st index element from the list\n",
    "Let's say, s is a string, s[1] will give the 1st index element from the string"
   ]
  },
  {
   "cell_type": "markdown",
   "id": "4ba857a6",
   "metadata": {},
   "source": [
    "#### 13. What's the difference between tuples and lists?\n",
    "\n",
    "Tuples are immutable. Lists are mutable."
   ]
  },
  {
   "cell_type": "markdown",
   "id": "83ed7638",
   "metadata": {},
   "source": [
    "#### 14. How do you type a tuple value that only contains the integer 42?\n",
    "\n",
    "(42,) #tuple\n",
    "\n",
    "t = (42,) #tuple assigned to a variable"
   ]
  },
  {
   "cell_type": "markdown",
   "id": "305592ec",
   "metadata": {},
   "source": [
    "#### 15. How do you get a list value's tuple form? How do you get a tuple value's list form?"
   ]
  },
  {
   "cell_type": "code",
   "execution_count": 6,
   "id": "6eb1db95",
   "metadata": {},
   "outputs": [
    {
     "name": "stdout",
     "output_type": "stream",
     "text": [
      "(1, 2, 3, 4, 5)\n",
      "[1, 2, 3, 4, 5]\n"
     ]
    }
   ],
   "source": [
    "#Answer:\n",
    "\n",
    "lst = [1,2,3,4,5]\n",
    "\n",
    "tpl = tuple(lst)  #convert list to tuple\n",
    "\n",
    "list1 = list(tpl) #convert tuple to list\n",
    "\n",
    "print(tpl)\n",
    "print(list1)\n",
    "\n"
   ]
  },
  {
   "cell_type": "markdown",
   "id": "6c5a3ea6",
   "metadata": {},
   "source": [
    "#### 16. Variables that \"contain\" list values are not necessarily lists themselves. Instead, what do they contain?\n",
    "\n",
    "They contain references to list values rather than list values themselves."
   ]
  },
  {
   "cell_type": "markdown",
   "id": "a5855bd7",
   "metadata": {},
   "source": [
    "#### 17. How do you distinguish between copy.copy() and copy.deepcopy()?"
   ]
  },
  {
   "cell_type": "markdown",
   "id": "cbcb817e",
   "metadata": {},
   "source": [
    "**copy.copy()**   \n",
    "If we use copy.copy() to copy a list (that contains a sublist or sublists), later - if any change is made to the sub-lists in either of the lists will reflect on both the lists        \n",
    "\n",
    "**copy.deepcopy()**   \n",
    "If we use copy.deepcopy() to copy a list (that contains a sublist or sublists), and later, if any change made to (the sub-lists or otherwise) on either of the lists will only reflect on the list the change was made. The original (or source) list remains unaffected.   \n",
    "\n",
    "**Key Points Based on my learning:**   \n",
    "\n",
    "Shallow copy will not clone child objects. so, the shallow copied list is NOT independent of the original.    \n",
    "\n",
    "Deep copy will recursively clone child objects. so, the deep copied list is fully independent of the original.    \n",
    "\n",
    "Creating a deep copy is slower than shallow copy.   "
   ]
  },
  {
   "cell_type": "code",
   "execution_count": 8,
   "id": "16a4d28e",
   "metadata": {},
   "outputs": [
    {
     "name": "stdout",
     "output_type": "stream",
     "text": [
      "[1, [2, [3, 10000]], 4, 5]\n",
      "[1, [2, [3, 10000]], 4, 5]\n",
      "[1, [2, [3, 10000]], 4, 5]\n",
      "[1, [2, [3, 8]], 4, 5]\n"
     ]
    }
   ],
   "source": [
    "import copy\n",
    "\n",
    "# Shallow Copy\n",
    "\n",
    "lst_one = [1,[2,[3,8]],4,5]\n",
    "shallow_copy = copy.copy(lst_one)\n",
    "shallow_copy[1][1][1] = 10000  #This will also change lst_one[1][1][1] to 10000\n",
    "                               #Note that any change made to elements 1,4,5 on shallow_copy will not affect lst_one because they are not sub-lists\n",
    "                               #Note that any elements appended to shallow_copy will not affect lst_one\n",
    "print(shallow_copy)  \n",
    "print(lst_one)\n",
    "\n",
    "# Deep Copy\n",
    "\n",
    "lst_two = [1,[2,[3,8]],4,5]\n",
    "deep_copy = copy.deepcopy(lst_two)\n",
    "deep_copy[1][1][1] = 10000       #list_two remains unaffected\n",
    "\n",
    "print(deep_copy)\n",
    "print(lst_two)"
   ]
  },
  {
   "cell_type": "code",
   "execution_count": null,
   "id": "16bb3ce7",
   "metadata": {},
   "outputs": [],
   "source": []
  }
 ],
 "metadata": {
  "kernelspec": {
   "display_name": "Python 3 (ipykernel)",
   "language": "python",
   "name": "python3"
  },
  "language_info": {
   "codemirror_mode": {
    "name": "ipython",
    "version": 3
   },
   "file_extension": ".py",
   "mimetype": "text/x-python",
   "name": "python",
   "nbconvert_exporter": "python",
   "pygments_lexer": "ipython3",
   "version": "3.9.12"
  }
 },
 "nbformat": 4,
 "nbformat_minor": 5
}
