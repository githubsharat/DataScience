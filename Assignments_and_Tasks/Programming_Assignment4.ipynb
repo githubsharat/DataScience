{
 "cells": [
  {
   "cell_type": "code",
   "execution_count": 1,
   "id": "4f7e0a57",
   "metadata": {},
   "outputs": [
    {
     "name": "stdout",
     "output_type": "stream",
     "text": [
      "Factorial of 20 is: 2432902008176640000\n"
     ]
    }
   ],
   "source": [
    "#1. Write a Python Program to Find the Factorial of a Number?\n",
    "\n",
    "# n = input('Input number: ')\n",
    "# n = int(n)\n",
    "\n",
    "n = 20\n",
    "\n",
    "p = 1\n",
    "for i in range(1,n+1):\n",
    "    p = p*i\n",
    "print(f'Factorial of {n} is: {p}')    "
   ]
  },
  {
   "cell_type": "code",
   "execution_count": 2,
   "id": "9c9d11f7",
   "metadata": {},
   "outputs": [
    {
     "name": "stdout",
     "output_type": "stream",
     "text": [
      "Multiplication Table of 8\n",
      "8 X 1 = 8\n",
      "8 X 2 = 16\n",
      "8 X 3 = 24\n",
      "8 X 4 = 32\n",
      "8 X 5 = 40\n",
      "8 X 6 = 48\n",
      "8 X 7 = 56\n",
      "8 X 8 = 64\n",
      "8 X 9 = 72\n",
      "8 X 10 = 80\n"
     ]
    }
   ],
   "source": [
    "# 2.Write a Python Program to Display the multiplication Table?\n",
    "\n",
    "# n = input('Input number: ')\n",
    "# n = int(n)\n",
    "\n",
    "n = 8\n",
    "\n",
    "print(f'Multiplication Table of {n}')\n",
    "\n",
    "for i in range(1,11):\n",
    "    print(f'{n} X {i} = {n*i}')"
   ]
  },
  {
   "cell_type": "code",
   "execution_count": 3,
   "id": "34f12299",
   "metadata": {},
   "outputs": [
    {
     "name": "stdout",
     "output_type": "stream",
     "text": [
      "The first 10 numbers of Fibonacci Sequence: \n",
      "[0, 1, 1, 2, 3, 5, 8, 13, 21, 34]\n"
     ]
    }
   ],
   "source": [
    "#3.Write a Python Program to Print the Fibonacci sequence?\n",
    "\n",
    "# n = input('Input the value of n to print  the first n numbers of Fibonacci sequence: ')\n",
    "# n = int(n)\n",
    "\n",
    "n = 10\n",
    "\n",
    "a = 1\n",
    "b = 0\n",
    "c = []\n",
    "print(f'The first {n} numbers of Fibonacci Sequence: ')\n",
    "for i in range(0,n):\n",
    "    c.append(b)\n",
    "    a, b = b, a+b   \n",
    "print(c)"
   ]
  },
  {
   "cell_type": "code",
   "execution_count": 4,
   "id": "5024fe52",
   "metadata": {},
   "outputs": [
    {
     "name": "stdout",
     "output_type": "stream",
     "text": [
      "The number 371 is an Armstrong number\n"
     ]
    }
   ],
   "source": [
    "#4.Write a Python Program to Check Armstrong Number?\n",
    "\n",
    "# n = input('Input Number: ')\n",
    "# n = int(n)\n",
    "\n",
    "n = 371\n",
    "\n",
    "# n = input(\"Enter a number: \")\n",
    "# n =  int(n)\n",
    "\n",
    "s = 0\n",
    "t = n\n",
    "while t > 0:\n",
    "   d = t % 10\n",
    "   s = s + d**3\n",
    "   t = t // 10\n",
    "\n",
    "# display the result\n",
    "if n == s:\n",
    "   print(f'The number {n} is an Armstrong number')\n",
    "else:\n",
    "   print(f'The number {n} is not an Armstrong number')"
   ]
  },
  {
   "cell_type": "code",
   "execution_count": 5,
   "id": "f65cfc29",
   "metadata": {},
   "outputs": [
    {
     "name": "stdout",
     "output_type": "stream",
     "text": [
      "The input interval is from 371 to 373\n",
      "371 : Armstrong number\n",
      "372 : Not an Armstrong number\n",
      "373 : Not an Armstrong number\n"
     ]
    }
   ],
   "source": [
    "#5.Write a Python Program to Find Armstrong Number in an Interval?\n",
    "\n",
    "# start = int(input('Input Starting Number of the Interval: ')\n",
    "# end = int(input('Input Ending Number of the Interval: ')\n",
    "\n",
    "start = 371  #Interval starting number\n",
    "end = 373    #Interval ending number\n",
    "\n",
    "print(f\"The input interval is from {start} to {end}\")\n",
    "\n",
    "n = list(range(start, end+1))\n",
    "\n",
    "for i in n:\n",
    "    s = 0\n",
    "    t = i\n",
    "    while t > 0:\n",
    "       d = t % 10\n",
    "       s = s + d**3\n",
    "       t = t // 10\n",
    "\n",
    "    # display the result\n",
    "    if i == s:\n",
    "       print(f'{i} : Armstrong number')\n",
    "    else:\n",
    "       print(f'{i} : Not an Armstrong number')\n",
    "    "
   ]
  },
  {
   "cell_type": "code",
   "execution_count": 6,
   "id": "eb9323ae",
   "metadata": {},
   "outputs": [
    {
     "name": "stdout",
     "output_type": "stream",
     "text": [
      "Sum of natural numbers from 1 to 5 is: 15\n"
     ]
    }
   ],
   "source": [
    "# 6.Write a Python Program to Find the Sum of Natural Numbers?\n",
    "\n",
    "# n = int(input(\"Enter a natural number: \"))\n",
    "\n",
    "n = 5\n",
    "\n",
    "s = 0\n",
    "for i in range(1,n+1):\n",
    "    s += i\n",
    "print(f\"Sum of natural numbers from 1 to {n} is: {s}\")\n",
    "    "
   ]
  }
 ],
 "metadata": {
  "kernelspec": {
   "display_name": "Python 3 (ipykernel)",
   "language": "python",
   "name": "python3"
  },
  "language_info": {
   "codemirror_mode": {
    "name": "ipython",
    "version": 3
   },
   "file_extension": ".py",
   "mimetype": "text/x-python",
   "name": "python",
   "nbconvert_exporter": "python",
   "pygments_lexer": "ipython3",
   "version": "3.9.12"
  }
 },
 "nbformat": 4,
 "nbformat_minor": 5
}
