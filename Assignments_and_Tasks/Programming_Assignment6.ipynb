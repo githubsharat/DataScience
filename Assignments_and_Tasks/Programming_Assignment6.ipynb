{
 "cells": [
  {
   "cell_type": "markdown",
   "id": "87a49309",
   "metadata": {},
   "source": [
    "#### 1.\tWrite a Python Program to Display Fibonacci Sequence Using Recursion?"
   ]
  },
  {
   "cell_type": "code",
   "execution_count": 1,
   "id": "aef612e6",
   "metadata": {
    "scrolled": true
   },
   "outputs": [
    {
     "name": "stdout",
     "output_type": "stream",
     "text": [
      "Enter the number of terms (positive number): 5\n",
      "0\n",
      "1\n",
      "1\n",
      "2\n",
      "3\n"
     ]
    }
   ],
   "source": [
    "try:\n",
    "    def fib(num):\n",
    "        if num <= 1:\n",
    "                return num\n",
    "        else:\n",
    "            return fib(num-1) + fib(num-2)\n",
    "\n",
    "    n = int(input(\"Enter the number of terms (positive number): \"))\n",
    "    if n < 0 or n == 0:\n",
    "        print(f\"Number of terms cannot be {n}. Retry with a positive number.\")\n",
    "    else:\n",
    "        for i in range(n):\n",
    "            print(fib(i))\n",
    "except:\n",
    "    print(\"Retry with a positive number\")"
   ]
  },
  {
   "cell_type": "markdown",
   "id": "cf08a7b8",
   "metadata": {},
   "source": [
    "#### 2.\tWrite a Python Program to Find Factorial of Number Using Recursion?"
   ]
  },
  {
   "cell_type": "code",
   "execution_count": 2,
   "id": "d23b6eab",
   "metadata": {},
   "outputs": [
    {
     "name": "stdout",
     "output_type": "stream",
     "text": [
      "Enter a non-negative number: 5\n",
      "5! is 120\n"
     ]
    }
   ],
   "source": [
    "try:   \n",
    "    def fact(num):\n",
    "       if num == 1 or num == 0:\n",
    "           return 1\n",
    "       else:\n",
    "           return num*fact(num-1)\n",
    "\n",
    "    n = int(input(\"Enter a non-negative number: \"))\n",
    "    if n < 0:\n",
    "        print(\"Retry with a non-negative number\")\n",
    "    else:\n",
    "        factorial = fact(n)\n",
    "        print(f\"{n}! is {factorial}\")\n",
    "except:\n",
    "    print(\"Retry with a non-negative number\")"
   ]
  },
  {
   "cell_type": "markdown",
   "id": "5481318a",
   "metadata": {},
   "source": [
    "#### 3.\tWrite a Python Program to calculate your Body Mass Index?"
   ]
  },
  {
   "cell_type": "code",
   "execution_count": 3,
   "id": "d5f3d5ae",
   "metadata": {},
   "outputs": [
    {
     "name": "stdout",
     "output_type": "stream",
     "text": [
      "Enter your weight in kg: 85\n",
      "Enter your height in metres: 1.82\n",
      "BMI: 25.66 kg/m²\n"
     ]
    }
   ],
   "source": [
    "try:\n",
    "    w = float(input(\"Enter your weight in kg: \"))\n",
    "    h = float(input(\"Enter your height in metres: \"))\n",
    "    bmi = w/(h*h)\n",
    "    if w == 0 and h > 0:\n",
    "        print(bmi)    \n",
    "    if w<0 or h <=0:\n",
    "        print(\"Please retry with a positive number for both weight and height\")\n",
    "    if w>0 and h>0:\n",
    "        print(f\"BMI: {round(bmi,2)} kg/m\\u00b2\")\n",
    "except:\n",
    "    print(\"Please retry with a positive number for both weight and height\")    "
   ]
  },
  {
   "cell_type": "markdown",
   "id": "ce9c2edb",
   "metadata": {},
   "source": [
    "#### 4.\tWrite a Python Program to calculate the natural logarithm of any number?"
   ]
  },
  {
   "cell_type": "code",
   "execution_count": 4,
   "id": "3fa60fb4",
   "metadata": {},
   "outputs": [
    {
     "name": "stdout",
     "output_type": "stream",
     "text": [
      "Enter a positive number: 4\n",
      "The natural logarithm of 4.0 : 1.3862943611198906\n"
     ]
    }
   ],
   "source": [
    "try:\n",
    "    import math\n",
    "    n = float(input(\"Enter a positive number: \"))\n",
    "    if n<=0:\n",
    "        print(\"Retry with a positive number\")\n",
    "    else:\n",
    "        print(f\"The natural logarithm of {n} : {math.log(n)}\")\n",
    "except:\n",
    "    print(\"Retry with a positive number\")"
   ]
  },
  {
   "cell_type": "markdown",
   "id": "1447d249",
   "metadata": {},
   "source": [
    "#### 5.\tWrite a Python Program for cube sum of first n natural numbers?"
   ]
  },
  {
   "cell_type": "code",
   "execution_count": 5,
   "id": "8d89474c",
   "metadata": {},
   "outputs": [
    {
     "name": "stdout",
     "output_type": "stream",
     "text": [
      "Enter a positive integer: 5\n",
      "Sum of cubes of first 5 natural numbers: 225.0\n"
     ]
    }
   ],
   "source": [
    "try:\n",
    "    n = int(input(\"Enter a positive integer: \"))\n",
    "    if n<=0:\n",
    "        print(\"Retry with a positive integer\")\n",
    "    else:\n",
    "        print(f\"Sum of cubes of first {n} natural numbers: {(n*(n+1)/2)**2}\")\n",
    "except:\n",
    "    print(\"Retry with a positive integer\")"
   ]
  }
 ],
 "metadata": {
  "kernelspec": {
   "display_name": "Python 3 (ipykernel)",
   "language": "python",
   "name": "python3"
  },
  "language_info": {
   "codemirror_mode": {
    "name": "ipython",
    "version": 3
   },
   "file_extension": ".py",
   "mimetype": "text/x-python",
   "name": "python",
   "nbconvert_exporter": "python",
   "pygments_lexer": "ipython3",
   "version": "3.9.12"
  }
 },
 "nbformat": 4,
 "nbformat_minor": 5
}
