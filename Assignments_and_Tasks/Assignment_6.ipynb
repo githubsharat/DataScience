{
 "cells": [
  {
   "cell_type": "markdown",
   "id": "bf85f485",
   "metadata": {},
   "source": [
    "#### 1. What are escape characters, and how do you use them?\n",
    "\n",
    "Answer: \n",
    "\n",
    "We use an escape character in order to insert characters such as single quotes, double quotes, etc. in a string. We can use an escape character, backslash, in these situations.\n",
    "\n",
    "Example: to print the following: Hello, this is a \"test\" statement"
   ]
  },
  {
   "cell_type": "code",
   "execution_count": 1,
   "id": "922f5737",
   "metadata": {},
   "outputs": [
    {
     "name": "stdout",
     "output_type": "stream",
     "text": [
      "Hello, this is a \"test\" statement\n"
     ]
    }
   ],
   "source": [
    "print(\"Hello, this is a \\\"test\\\" statement\")"
   ]
  },
  {
   "cell_type": "markdown",
   "id": "75ed33b5",
   "metadata": {},
   "source": [
    "#### 2. What do the escape characters n and t stand for?\n",
    "\n",
    "Answer:     \n",
    "\n",
    "n stands for new line, t stands for tab"
   ]
  },
  {
   "cell_type": "markdown",
   "id": "66bc33e4",
   "metadata": {},
   "source": [
    "#### 3. What is the way to include backslash characters in a string?\n",
    "\n",
    "Answer: \n",
    "\n",
    "Use a backslash before the backslash.\n",
    "\n",
    "Example: to print the following: backslash is denoted by \\"
   ]
  },
  {
   "cell_type": "code",
   "execution_count": 2,
   "id": "6fb88a83",
   "metadata": {},
   "outputs": [
    {
     "name": "stdout",
     "output_type": "stream",
     "text": [
      "backslash is denoted by \\\n"
     ]
    }
   ],
   "source": [
    "print(\"backslash is denoted by \\\\\")"
   ]
  },
  {
   "cell_type": "markdown",
   "id": "0a29cabc",
   "metadata": {},
   "source": [
    "#### 4. The string \"Howl's Moving Castle\" is a correct value. Why isn't the single quote character in the word Howl's not escaped a problem?\n",
    "\n",
    "Answer:\n",
    "\n",
    "Because the double quotes enclosing the string will clear the discrepency."
   ]
  },
  {
   "cell_type": "code",
   "execution_count": 3,
   "id": "8ff6bf93",
   "metadata": {},
   "outputs": [
    {
     "name": "stdout",
     "output_type": "stream",
     "text": [
      "Howl's Moving Castle\n"
     ]
    }
   ],
   "source": [
    "print(\"Howl's Moving Castle\")"
   ]
  },
  {
   "cell_type": "markdown",
   "id": "2a6a609c",
   "metadata": {},
   "source": [
    "#### 5. How do you write a string of newlines if you don't want to use the n character?\n",
    "\n",
    "Answer:      \n",
    "\n",
    "by using print() between the lines"
   ]
  },
  {
   "cell_type": "code",
   "execution_count": 4,
   "id": "170177c0",
   "metadata": {},
   "outputs": [
    {
     "name": "stdout",
     "output_type": "stream",
     "text": [
      "line one\n",
      "\n",
      "line two\n"
     ]
    }
   ],
   "source": [
    "print(\"line one\")\n",
    "print()\n",
    "print(\"line two\")"
   ]
  },
  {
   "cell_type": "markdown",
   "id": "cc07aab0",
   "metadata": {},
   "source": [
    "#### 6. What are the values of the given expressions?\n",
    "\n",
    "'Hello, world!'[1]    \n",
    "\n",
    "Answer: 'e'    \n",
    "\n",
    "'Hello, world!'[0:5]   \n",
    "\n",
    "Answer: 'Hello'   \n",
    "\n",
    "'Hello, world!'[:5]       \n",
    "\n",
    "Answer: 'Hello'   \n",
    "\n",
    "'Hello, world!'[3:]      \n",
    "\n",
    "Answer: 'lo, world!'   "
   ]
  },
  {
   "cell_type": "markdown",
   "id": "a5d3a99c",
   "metadata": {},
   "source": [
    "#### 7. What are the values of the following expressions?\n",
    "\n",
    "'Hello'.upper()    \n",
    "\n",
    "Answer: 'HELLO'   \n",
    "\n",
    "'Hello'.upper().isupper()    \n",
    "\n",
    "Answer: True   \n",
    "\n",
    "'Hello'.upper().lower()      \n",
    "\n",
    "Answer: 'hello'   "
   ]
  },
  {
   "cell_type": "markdown",
   "id": "fc29c64c",
   "metadata": {},
   "source": [
    "#### 8. What are the values of the following expressions?\n",
    "\n",
    "'Remember, remember, the fifth of July.'.split()      \n",
    "\n",
    "Answer: ['Remember,', 'remember,', 'the', 'fifth', 'of', 'July.']         \n",
    "\n",
    "\n",
    "                                    \n",
    "'-'.join('There can only one.'.split())           \n",
    "\n",
    "Answer: 'There-can-only-one.'      "
   ]
  },
  {
   "cell_type": "markdown",
   "id": "ef82e0ad",
   "metadata": {},
   "source": [
    "#### 9. What are the methods for right-justifying, left-justifying, and centering a string?\n",
    "\n",
    "Answer:\n",
    "\n",
    "rjust() for right justifying a string      \n",
    "\n",
    "ljust() for left justifying a string       \n",
    "\n",
    "center() for centering a string    "
   ]
  },
  {
   "cell_type": "markdown",
   "id": "e447b3ac",
   "metadata": {},
   "source": [
    "#### 10. What is the best way to remove whitespace characters from the start or end?\n",
    "\n",
    "Answer:   \n",
    "\n",
    "Use replace method.      \n",
    "\n",
    "strip, rstrip, or lstrip will not help with removing spaces in the middle of string"
   ]
  },
  {
   "cell_type": "code",
   "execution_count": 5,
   "id": "e1633a32",
   "metadata": {},
   "outputs": [
    {
     "data": {
      "text/plain": [
       "'Hello'"
      ]
     },
     "execution_count": 5,
     "metadata": {},
     "output_type": "execute_result"
    }
   ],
   "source": [
    "string1 = \" He l l   o  \"\n",
    "\n",
    "string1.replace(\" \",\"\")"
   ]
  }
 ],
 "metadata": {
  "kernelspec": {
   "display_name": "Python 3 (ipykernel)",
   "language": "python",
   "name": "python3"
  },
  "language_info": {
   "codemirror_mode": {
    "name": "ipython",
    "version": 3
   },
   "file_extension": ".py",
   "mimetype": "text/x-python",
   "name": "python",
   "nbconvert_exporter": "python",
   "pygments_lexer": "ipython3",
   "version": "3.9.12"
  }
 },
 "nbformat": 4,
 "nbformat_minor": 5
}
