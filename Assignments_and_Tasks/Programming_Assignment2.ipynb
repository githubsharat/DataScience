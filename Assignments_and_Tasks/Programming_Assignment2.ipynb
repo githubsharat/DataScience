{
 "cells": [
  {
   "cell_type": "code",
   "execution_count": 2,
   "id": "8d5a845c",
   "metadata": {},
   "outputs": [
    {
     "name": "stdout",
     "output_type": "stream",
     "text": [
      "16.0934\n"
     ]
    }
   ],
   "source": [
    "#1\n",
    "\n",
    "km = 10\n",
    "\n",
    "miles = 1.60934*km\n",
    "\n",
    "print(miles)"
   ]
  },
  {
   "cell_type": "code",
   "execution_count": 7,
   "id": "ce5db60f",
   "metadata": {},
   "outputs": [
    {
     "name": "stdout",
     "output_type": "stream",
     "text": [
      "95.0\n"
     ]
    }
   ],
   "source": [
    "#2\n",
    "\n",
    "celsius = 35\n",
    "\n",
    "farenheit = (celsius*(9/5))+32\n",
    "\n",
    "print(farenheit)"
   ]
  },
  {
   "cell_type": "code",
   "execution_count": 11,
   "id": "c1ad3e52",
   "metadata": {},
   "outputs": [
    {
     "name": "stdout",
     "output_type": "stream",
     "text": [
      "     June 2022\n",
      "Mo Tu We Th Fr Sa Su\n",
      "       1  2  3  4  5\n",
      " 6  7  8  9 10 11 12\n",
      "13 14 15 16 17 18 19\n",
      "20 21 22 23 24 25 26\n",
      "27 28 29 30\n",
      "\n"
     ]
    }
   ],
   "source": [
    "#3\n",
    "\n",
    "import calendar\n",
    "\n",
    "year = 2022\n",
    "month = 6\n",
    "\n",
    "print(calendar.month(year, month))"
   ]
  },
  {
   "cell_type": "raw",
   "id": "fcb067e2",
   "metadata": {},
   "source": []
  },
  {
   "cell_type": "code",
   "execution_count": 17,
   "id": "0b5269bb",
   "metadata": {},
   "outputs": [
    {
     "name": "stdout",
     "output_type": "stream",
     "text": [
      "The roots of the quadratic equation with the above values of a,b, c are:  3.0  and  2.0\n"
     ]
    }
   ],
   "source": [
    "#4\n",
    "#Quadartic equation can be represented as ax**2 + bx + C\n",
    "\n",
    "a = 1\n",
    "b = -5\n",
    "c = 6\n",
    "\n",
    "root1 = (-b+((b**2)-4*a*c)**0.5)/(2*a)\n",
    "root2 = (-b-((b**2)-4*a*c)**0.5)/(2*a)\n",
    "\n",
    "print(\"The roots of the quadratic equation are: \", root1, \" and \", root2)"
   ]
  },
  {
   "cell_type": "code",
   "execution_count": 18,
   "id": "6414825c",
   "metadata": {},
   "outputs": [
    {
     "name": "stdout",
     "output_type": "stream",
     "text": [
      "2\n",
      "1\n"
     ]
    }
   ],
   "source": [
    "#5\n",
    "\n",
    "a = 1\n",
    "b = 2\n",
    "\n",
    "a,b = b,a\n",
    "\n",
    "print(a)\n",
    "print(b)"
   ]
  },
  {
   "cell_type": "code",
   "execution_count": null,
   "id": "43080fd3",
   "metadata": {},
   "outputs": [],
   "source": []
  }
 ],
 "metadata": {
  "kernelspec": {
   "display_name": "Python 3 (ipykernel)",
   "language": "python",
   "name": "python3"
  },
  "language_info": {
   "codemirror_mode": {
    "name": "ipython",
    "version": 3
   },
   "file_extension": ".py",
   "mimetype": "text/x-python",
   "name": "python",
   "nbconvert_exporter": "python",
   "pygments_lexer": "ipython3",
   "version": "3.9.12"
  }
 },
 "nbformat": 4,
 "nbformat_minor": 5
}
