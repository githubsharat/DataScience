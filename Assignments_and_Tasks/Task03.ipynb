{
 "cells": [
  {
   "cell_type": "raw",
   "id": "6520e466",
   "metadata": {},
   "source": [
    "Q.1)\n",
    "\n",
    "ineuron\n",
    "ineuron ineuron\n",
    "ineuron ineuron ineuron\n",
    "ineuron ineuron ineuron ineuron\n",
    "\n",
    "\n",
    "q.2)\n",
    "\n",
    "\n",
    "          ineruon\n",
    "    ineruon      ineruon\n",
    "ineruon\t\tineruon \tineruon\n",
    "\tineruon\t\t ineruon\n",
    "\t\t  ineruon\n",
    "\n",
    "\n",
    "\n",
    "\n",
    " l =[[1,2,3,4], (2,3,4,5,6), (3,4,5,6,7), set([23,4,5,45,4,4,5,45,45,4,5]),{'k1' : \"sudh\" , 'k2' : \"ineuron\", 'k3' : \"kumar\", 3:6, 7:8}, [\"ineuron\", \"data science\"]]\n",
    "\n",
    "\n",
    "q.3) Try to extract all the list entity.\n",
    "q.4) Try to extract all the dict entity.\n",
    "q.5) Try to extract all the Tuples entity.\n",
    "q.6) Try to extract all the Numeric data it may be a part of dict key and values.\n",
    "q.7) Try to give summation of all the numeric data.\n",
    "q.8) Try to filter out all the odd values out all numeric datawhich is a part of a list.\n",
    "q.9) Try to extract \"ineuron\" out of this dataset.\n",
    "q.10) Try to find out a number of occurance of all the data.\n",
    "q.11) Try to find out a number of keys in dict element.\n",
    "q.12) Try to filter out all the string data.\n",
    "q.13) Try to find out alphanum in data.\n",
    "q.14) Try to find out multiplication of all numeric value in the individual collection inside dataset.\n",
    "q.15) Try to unwrape all the collection inside collection and create a flat list."
   ]
  },
  {
   "cell_type": "code",
   "execution_count": 1,
   "id": "0e04d086",
   "metadata": {},
   "outputs": [
    {
     "name": "stdout",
     "output_type": "stream",
     "text": [
      "ineuron \n",
      "ineuron ineuron \n",
      "ineuron ineuron ineuron \n",
      "ineuron ineuron ineuron ineuron \n"
     ]
    }
   ],
   "source": [
    "#1\n",
    "\n",
    "n = 4 \n",
    "for i in range(4) :\n",
    "    for j in range(0 ,i+1) : \n",
    "        print(\"ineuron\" , end = \" \")\n",
    "    print()    "
   ]
  },
  {
   "cell_type": "code",
   "execution_count": 2,
   "id": "11c0415c",
   "metadata": {},
   "outputs": [
    {
     "name": "stdout",
     "output_type": "stream",
     "text": [
      "            ineuron      \n",
      "      ineuron      ineuron      \n",
      "ineuron      ineuron      ineuron      \n",
      "      ineuron      ineuron      \n",
      "            ineuron      \n"
     ]
    }
   ],
   "source": [
    "#2\n",
    "\n",
    "n=3\n",
    "k=n\n",
    "for i in range(n):\n",
    "    k=k-1 \n",
    "    print('      '*k, end='')\n",
    "    for j in range(i+1):\n",
    "        print('ineuron      ', end= '')\n",
    "    print()\n",
    "\n",
    "for i in reversed(range(n-1)):\n",
    "    k=k+1 \n",
    "    print('      '*k, end='')\n",
    "    for j in reversed(range(i+1)):\n",
    "        print('ineuron      ', end= '')\n",
    "    print()"
   ]
  },
  {
   "cell_type": "code",
   "execution_count": 3,
   "id": "4b71a3de",
   "metadata": {},
   "outputs": [
    {
     "name": "stdout",
     "output_type": "stream",
     "text": [
      "[1, 2, 3, 4]\n",
      "['ineuron', 'data science']\n"
     ]
    }
   ],
   "source": [
    "# 3. Try to extract all the list entity.\n",
    "\n",
    "l =[[1,2,3,4], (2,3,4,5,6), (3,4,5,6,7), set([23,4,5,45,4,4,5,45,45,4,5]),{'k1' : \"sudh\" , 'k2' : \"ineuron\", 'k3' : \"kumar\", 3:6, 7:8}, [\"ineuron\", \"data science\"]]\n",
    "\n",
    "for i in l:\n",
    "    if type(i) == list:\n",
    "        print(i)"
   ]
  },
  {
   "cell_type": "code",
   "execution_count": 4,
   "id": "35f09c65",
   "metadata": {},
   "outputs": [
    {
     "name": "stdout",
     "output_type": "stream",
     "text": [
      "{'k1': 'sudh', 'k2': 'ineuron', 'k3': 'kumar', 3: 6, 7: 8}\n"
     ]
    }
   ],
   "source": [
    "# 4. Try to extract all the dict entity.\n",
    "\n",
    "l =[[1,2,3,4], (2,3,4,5,6), (3,4,5,6,7), set([23,4,5,45,4,4,5,45,45,4,5]),{'k1' : \"sudh\" , 'k2' : \"ineuron\", 'k3' : \"kumar\", 3:6, 7:8}, [\"ineuron\", \"data science\"]]\n",
    "\n",
    "for i in l:\n",
    "    if type(i) == dict:\n",
    "        print(i)"
   ]
  },
  {
   "cell_type": "code",
   "execution_count": 5,
   "id": "4784388f",
   "metadata": {},
   "outputs": [
    {
     "name": "stdout",
     "output_type": "stream",
     "text": [
      "(2, 3, 4, 5, 6)\n",
      "(3, 4, 5, 6, 7)\n"
     ]
    }
   ],
   "source": [
    "# 5. Try to extract all the Tuples entity.\n",
    "\n",
    "l =[[1,2,3,4], (2,3,4,5,6), (3,4,5,6,7), set([23,4,5,45,4,4,5,45,45,4,5]),{'k1' : \"sudh\" , 'k2' : \"ineuron\", 'k3' : \"kumar\", 3:6, 7:8}, [\"ineuron\", \"data science\"]]\n",
    "\n",
    "for i in l:\n",
    "    if type(i) == tuple:\n",
    "        print(i)"
   ]
  },
  {
   "cell_type": "code",
   "execution_count": 6,
   "id": "2ad55029",
   "metadata": {},
   "outputs": [
    {
     "name": "stdout",
     "output_type": "stream",
     "text": [
      "['1', '2', '3', '4', '2', '3', '4', '5', '6', '3', '4', '5', '6', '7', '45', '4', '5', '23', '3', '7', '6', '8']\n"
     ]
    }
   ],
   "source": [
    "l =[[1,2,3,4], (2,3,4,5,6), (3,4,5,6,7), set([23,4,5,45,4,4,5,45,45,4,5]),{'k1' : \"sudh\" , 'k2' : \"ineuron\", 'k3' : \"kumar\", 3:6, 7:8}, [\"ineuron\", \"data science\"]]\n",
    "\n",
    "# 6. Try to extract all the Numeric data it may be a part of dict key and values.\n",
    "\n",
    "num = [] \n",
    "\n",
    "for i in l:\n",
    "    if type(i) in [list, tuple, set]:\n",
    "        for j in i:\n",
    "            j = str(j)\n",
    "            if j.isnumeric() == True:  \n",
    "                num.append(j)\n",
    "    if type(i) == dict:\n",
    "        for j in list(i.keys()):   #extract keys as list\n",
    "            j = str(j)\n",
    "            if j.isnumeric() == True:\n",
    "                num.append(j) \n",
    "        for j in list(i.values()):  #extract values as list\n",
    "            j = str(j)\n",
    "            if j.isnumeric() == True:\n",
    "                num.append(j)\n",
    "\n",
    "print(num)"
   ]
  },
  {
   "cell_type": "code",
   "execution_count": 7,
   "id": "b108cb93",
   "metadata": {},
   "outputs": [
    {
     "name": "stdout",
     "output_type": "stream",
     "text": [
      "156\n"
     ]
    }
   ],
   "source": [
    "# 7. Try to give summation of all the numeric data.\n",
    "\n",
    "sum = 0\n",
    "\n",
    "for i in num:\n",
    "    i = int(i)\n",
    "    sum = sum + i\n",
    "\n",
    "print(sum)"
   ]
  },
  {
   "cell_type": "code",
   "execution_count": 8,
   "id": "a2c5f42d",
   "metadata": {},
   "outputs": [
    {
     "data": {
      "text/plain": [
       "[1, 3, 3, 5, 3, 5, 7, 45, 5, 23, 3, 7]"
      ]
     },
     "execution_count": 8,
     "metadata": {},
     "output_type": "execute_result"
    }
   ],
   "source": [
    "# 8. Try to filter out all the odd values out all numeric data which is a part of a list.\n",
    "\n",
    "odd = []\n",
    "\n",
    "for i in num:\n",
    "    i = int(i)\n",
    "    if i%2 != 0:\n",
    "        odd.append(i)\n",
    "        \n",
    "odd"
   ]
  },
  {
   "cell_type": "code",
   "execution_count": 9,
   "id": "bff4e485",
   "metadata": {},
   "outputs": [
    {
     "data": {
      "text/plain": [
       "['ineuron', 'ineuron']"
      ]
     },
     "execution_count": 9,
     "metadata": {},
     "output_type": "execute_result"
    }
   ],
   "source": [
    "#9. Try to extract \"ineuron\" out of this dataset.\n",
    "l =[[1,2,3,4], (2,3,4,5,6), (3,4,5,6,7), set([23,4,5,45,4,4,5,45,45,4,5]),{'k1' : \"sudh\" , 'k2' : \"ineuron\", 'k3' : \"kumar\", 3:6, 7:8}, [\"ineuron\", \"data science\"]]\n",
    "\n",
    "lst = []\n",
    "\n",
    "lst.append(l[4]['k2'])\n",
    "lst.append(l[5][0])\n",
    "\n",
    "lst"
   ]
  },
  {
   "cell_type": "code",
   "execution_count": 10,
   "id": "4a8a5538",
   "metadata": {},
   "outputs": [
    {
     "name": "stdout",
     "output_type": "stream",
     "text": [
      "1 has appeared 1 times\n",
      "2 has appeared 2 times\n",
      "3 has appeared 4 times\n",
      "4 has appeared 4 times\n",
      "5 has appeared 3 times\n",
      "6 has appeared 3 times\n",
      "7 has appeared 2 times\n",
      "45 has appeared 1 times\n",
      "23 has appeared 1 times\n",
      "k1 has appeared 1 times\n",
      "k2 has appeared 1 times\n",
      "k3 has appeared 1 times\n",
      "sudh has appeared 1 times\n",
      "ineuron has appeared 2 times\n",
      "kumar has appeared 1 times\n",
      "8 has appeared 1 times\n",
      "data science has appeared 1 times\n"
     ]
    }
   ],
   "source": [
    "#10. Try to find out a number of occurance of all the data.\n",
    "\n",
    "data = []\n",
    "\n",
    "# collect all the elements\n",
    "for i in l:   \n",
    "    if type(i) in [list, tuple, set]:\n",
    "        for j in i:\n",
    "            j = str(j)\n",
    "            data.append(j)               \n",
    "    if type(i) == dict:\n",
    "        lst = list(i.keys())  \n",
    "        for j in lst:\n",
    "            j = str(j)\n",
    "            data.append(j) \n",
    "        lst = list(i.values())   \n",
    "        for j in lst:\n",
    "            j = str(j)\n",
    "            data.append(j)\n",
    "            \n",
    "#data contains all the elements in the form of a list\n",
    "\n",
    "freq = {}  # frequency of each element\n",
    "\n",
    "for i in data:\n",
    "    if i not in freq:\n",
    "        freq[i] = 1\n",
    "    else:\n",
    "        freq[i] += 1\n",
    "\n",
    "for i in freq:\n",
    "    print(\"{} has appeared {} times\".format(i, freq[i]))"
   ]
  },
  {
   "cell_type": "code",
   "execution_count": 11,
   "id": "7f23896d",
   "metadata": {},
   "outputs": [
    {
     "name": "stdout",
     "output_type": "stream",
     "text": [
      "The number of keys in the dictionary element is: 5\n"
     ]
    }
   ],
   "source": [
    "# 11. Try to find out a number of keys in dict element.\n",
    "\n",
    "l =[[1,2,3,4], (2,3,4,5,6), (3,4,5,6,7), set([23,4,5,45,4,4,5,45,45,4,5]),{'k1' : \"sudh\" , 'k2' : \"ineuron\", 'k3' : \"kumar\", 3:6, 7:8}, [\"ineuron\", \"data science\"]]\n",
    "\n",
    "dict_keys = []\n",
    "\n",
    "for i in l:\n",
    "    if type(i) == dict:\n",
    "        print(\"The number of keys in the dictionary element is: {}\".format(len(i)))\n",
    "        "
   ]
  },
  {
   "cell_type": "code",
   "execution_count": 12,
   "id": "5dbe8362",
   "metadata": {},
   "outputs": [
    {
     "data": {
      "text/plain": [
       "['k1', 'k2', 'k3', 'sudh', 'ineuron', 'kumar', 'ineuron', 'data science']"
      ]
     },
     "execution_count": 12,
     "metadata": {},
     "output_type": "execute_result"
    }
   ],
   "source": [
    "# 12. Try to filter out all the string data.\n",
    "\n",
    "data = []\n",
    "\n",
    "# collect all the string data\n",
    "\n",
    "for i in l:   \n",
    "    if type(i) in [list, tuple, set]:\n",
    "        for j in i:\n",
    "            if type(j) == str:\n",
    "                data.append(j) \n",
    "    if type(i) == dict:\n",
    "        lst = list(i.keys())  \n",
    "        for j in lst:\n",
    "            if type(j) == str:\n",
    "                data.append(j) \n",
    "        lst = list(i.values())   \n",
    "        for j in lst:\n",
    "            if type(j) == str:\n",
    "                data.append(j)\n",
    "        \n",
    "data      "
   ]
  },
  {
   "cell_type": "code",
   "execution_count": 13,
   "id": "f229b048",
   "metadata": {},
   "outputs": [
    {
     "name": "stdout",
     "output_type": "stream",
     "text": [
      "['1', '2', '3', '4', '2', '3', '4', '5', '6', '3', '4', '5', '6', '7', '45', '4', '5', '23', 'k1', 'k2', 'k3', '3', '7', 'sudh', 'ineuron', 'kumar', '6', '8', 'ineuron']\n"
     ]
    }
   ],
   "source": [
    "# 13. Try to find out alphanum data.\n",
    "\n",
    "alnum = [] \n",
    "\n",
    "\n",
    "for i in l:     \n",
    "    if type(i) in [list, tuple, set]:\n",
    "        for j in i:\n",
    "            j = str(j)\n",
    "            if j.isalnum() == True:\n",
    "                alnum.append(j)         \n",
    "    if type(i) == dict:\n",
    "        lst = list(i.keys())   #extract keys as list\n",
    "        for j in lst:\n",
    "            j = str(j)\n",
    "            if j.isalnum() == True:\n",
    "                alnum.append(j) \n",
    "        lst = list(i.values())   #extract values as list\n",
    "        for j in lst:\n",
    "            j = str(j)\n",
    "            if j.isalnum() == True:\n",
    "                alnum.append(j)\n",
    "\n",
    "print(alnum)"
   ]
  },
  {
   "cell_type": "code",
   "execution_count": 14,
   "id": "06ac11fd",
   "metadata": {},
   "outputs": [
    {
     "name": "stdout",
     "output_type": "stream",
     "text": [
      "908605071360000\n"
     ]
    }
   ],
   "source": [
    "# 14. Try to find out multiplication of all numeric value in the individual collection inside dataset.\n",
    "\n",
    "prod = 1\n",
    "for i in num:\n",
    "    i = int(i)\n",
    "    prod = prod*i\n",
    "\n",
    "print(prod)"
   ]
  },
  {
   "cell_type": "code",
   "execution_count": 15,
   "id": "71da9481",
   "metadata": {},
   "outputs": [
    {
     "name": "stdout",
     "output_type": "stream",
     "text": [
      "[1, 2, 3, 4, 2, 3, 4, 5, 6, 3, 4, 5, 6, 7, 45, 4, 5, 23, 'k1', 'k2', 'k3', 3, 7, 'sudh', 'ineuron', 'kumar', 6, 8, 'ineuron', 'data science']\n"
     ]
    }
   ],
   "source": [
    "# 15. Try to unwrape all the collection inside collection and create a flat list.`\n",
    "\n",
    "\n",
    "l =[[1,2,3,4], (2,3,4,5,6), (3,4,5,6,7), set([23,4,5,45,4,4,5,45,45,4,5]),{'k1' : \"sudh\" , 'k2' : \"ineuron\", 'k3' : \"kumar\", 3:6, 7:8}, [\"ineuron\", \"data science\"]]\n",
    "\n",
    "data = [] \n",
    "\n",
    "\n",
    "for i in l:     \n",
    "    if type(i) in [list, tuple,set]:\n",
    "        for j in i:\n",
    "            data.append(j)              \n",
    "    if type(i) == dict:\n",
    "        lst = list(i.keys())   #extract keys as list\n",
    "        for j in lst:\n",
    "            data.append(j)\n",
    "        lst = list(i.values())   #extract values as list\n",
    "        for j in lst:\n",
    "            data.append(j)\n",
    "\n",
    "print(data)"
   ]
  },
  {
   "cell_type": "code",
   "execution_count": null,
   "id": "0165834b",
   "metadata": {},
   "outputs": [],
   "source": []
  }
 ],
 "metadata": {
  "kernelspec": {
   "display_name": "Python 3 (ipykernel)",
   "language": "python",
   "name": "python3"
  },
  "language_info": {
   "codemirror_mode": {
    "name": "ipython",
    "version": 3
   },
   "file_extension": ".py",
   "mimetype": "text/x-python",
   "name": "python",
   "nbconvert_exporter": "python",
   "pygments_lexer": "ipython3",
   "version": "3.9.12"
  }
 },
 "nbformat": 4,
 "nbformat_minor": 5
}
