{
 "cells": [
  {
   "cell_type": "markdown",
   "id": "80b21361",
   "metadata": {},
   "source": [
    "### Assignment_3"
   ]
  },
  {
   "cell_type": "markdown",
   "id": "d8a2b188",
   "metadata": {},
   "source": [
    "#### 1. Why are functions advantageous to have in your programs?   \n",
    "\n",
    "    Some of the advantages of functions:    \n",
    " \n",
    "    Code resuability       \n",
    "    Improves readability   \n",
    "    Reduces mistakes/errors   \n",
    "    Saves time   \n",
    "    Avoid unnecessary repetition   "
   ]
  },
  {
   "cell_type": "markdown",
   "id": "280e34c5",
   "metadata": {},
   "source": [
    "#### 2. When does the code in a function run: when it's specified or when it's called?    \n",
    "\n",
    "    Answer: When it is called."
   ]
  },
  {
   "cell_type": "markdown",
   "id": "5b4247cd",
   "metadata": {},
   "source": [
    "#### 3. What statement creates a function?    \n",
    "\n",
    "    Answer: def creates function. For example:   "
   ]
  },
  {
   "cell_type": "code",
   "execution_count": 1,
   "id": "a6714f79",
   "metadata": {},
   "outputs": [],
   "source": [
    "def func():    \n",
    "     print(\"Hello\")"
   ]
  },
  {
   "cell_type": "code",
   "execution_count": 2,
   "id": "753bbd59",
   "metadata": {},
   "outputs": [
    {
     "name": "stdout",
     "output_type": "stream",
     "text": [
      "Hello\n"
     ]
    }
   ],
   "source": [
    "#### 4. What is the difference between a function and a function call?   \n",
    "\n",
    "def func():        #Creating function:\n",
    "    print(\"Hello\")\n",
    "    \n",
    "a = func()       #calling function"
   ]
  },
  {
   "cell_type": "markdown",
   "id": "a9d862b4",
   "metadata": {},
   "source": [
    "#### 5. How many global scopes are there in a Python program? How many local scopes? \n",
    "\n",
    "    Answer: There are only one global scope. Local scopes have no limit. "
   ]
  },
  {
   "cell_type": "markdown",
   "id": "01238d47",
   "metadata": {},
   "source": [
    "#### 6. What happens to variables in a local scope when the function call returns?      \n",
    "   \n",
    "    Answer: The local scope variables get destroyed / deleted after the call returns"
   ]
  },
  {
   "cell_type": "markdown",
   "id": "7e4ab450",
   "metadata": {},
   "source": [
    "#### 7. What is the concept of a return value? Is it possible to have a return value in an expression? \n",
    "\n",
    "    Answer: return statement in a function returns the value. Yes, it is possible to return value in an expression"
   ]
  },
  {
   "cell_type": "markdown",
   "id": "bf169392",
   "metadata": {},
   "source": [
    "#### 8. If a function does not have a return statement, what is the return value of a call to that function? \n",
    "\n",
    "    Answer: if the return statement is missing in a function, nothing is returned. The return value is undefined."
   ]
  },
  {
   "cell_type": "markdown",
   "id": "2a5b8902",
   "metadata": {},
   "source": [
    "#### 9. How do you make a function variable refer to the global variable?  \n",
    "\n",
    "    Answer: By using this keyword: global     \n",
    "            \n",
    "            example:           "
   ]
  },
  {
   "cell_type": "code",
   "execution_count": 3,
   "id": "e49acb89",
   "metadata": {},
   "outputs": [
    {
     "data": {
      "text/plain": [
       "3"
      ]
     },
     "execution_count": 3,
     "metadata": {},
     "output_type": "execute_result"
    }
   ],
   "source": [
    "a = 2   \n",
    "def fun():\n",
    "    global a\n",
    "    a = a+1\n",
    "    return a\n",
    "\n",
    "fun()"
   ]
  },
  {
   "cell_type": "markdown",
   "id": "50514af9",
   "metadata": {},
   "source": [
    "#### 10. What is the data type of None?\n",
    "\n",
    "    Answer: None can be used to denote null value or when there is no value "
   ]
  },
  {
   "cell_type": "markdown",
   "id": "9a1391e9",
   "metadata": {},
   "source": [
    "#### 11. What does the sentence import areallyourpetsnamederic do?   \n",
    "\n",
    "    Answer: It imports all of the code from areallyourpetsnamederic package or module   "
   ]
  },
  {
   "cell_type": "markdown",
   "id": "0dd6f5eb",
   "metadata": {},
   "source": [
    "#### 12. If you had a bacon() feature in a spam module, what would you call it after importing spam?\n",
    "\n",
    "    Answer: spam.bacon()"
   ]
  },
  {
   "cell_type": "markdown",
   "id": "8ed46110",
   "metadata": {},
   "source": [
    "#### 13. What can you do to save a programme from crashing if it encounters an error?\n",
    "\n",
    "    Answer: Use error-handling such as \n",
    "            a) try and except\n",
    "            b) try,except, finally\n",
    "            c) assertions etc."
   ]
  },
  {
   "cell_type": "markdown",
   "id": "6e475faf",
   "metadata": {},
   "source": [
    "#### 14. What is the purpose of the try clause? What is the purpose of the except clause? \n",
    "\n",
    "    Try clause is to instruct to try the code first.\n",
    "    Except clause runs if try clause fails (that is, produces an error)"
   ]
  }
 ],
 "metadata": {
  "kernelspec": {
   "display_name": "Python 3 (ipykernel)",
   "language": "python",
   "name": "python3"
  },
  "language_info": {
   "codemirror_mode": {
    "name": "ipython",
    "version": 3
   },
   "file_extension": ".py",
   "mimetype": "text/x-python",
   "name": "python",
   "nbconvert_exporter": "python",
   "pygments_lexer": "ipython3",
   "version": "3.9.12"
  }
 },
 "nbformat": 4,
 "nbformat_minor": 5
}
