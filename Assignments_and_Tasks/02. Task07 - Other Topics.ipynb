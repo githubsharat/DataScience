{
 "cells": [
  {
   "cell_type": "markdown",
   "id": "70934230",
   "metadata": {},
   "source": [
    "Following topics are covered in this doc:   \n",
    "    1. Abstraction   \n",
    "    2. Encapsulation   \n",
    "    3. Polymorphism   \n",
    "    4. Method Overriding   "
   ]
  },
  {
   "cell_type": "markdown",
   "id": "49a2955a",
   "metadata": {},
   "source": [
    "### Abstraction - 10 Examples"
   ]
  },
  {
   "cell_type": "code",
   "execution_count": 1,
   "id": "65dc1e7e",
   "metadata": {},
   "outputs": [
    {
     "name": "stdout",
     "output_type": "stream",
     "text": [
      "hello123\n"
     ]
    }
   ],
   "source": [
    "class iNeuron_login:\n",
    "    __password = \"hello123\"\n",
    "    username = \"hello\"\n",
    "    \n",
    "    def login1(self):\n",
    "        print(self.__password)\n",
    "        \n",
    "object1 = iNeuron_login()\n",
    "\n",
    "object1.login1()"
   ]
  },
  {
   "cell_type": "code",
   "execution_count": 2,
   "id": "43b2e89d",
   "metadata": {},
   "outputs": [
    {
     "name": "stdout",
     "output_type": "stream",
     "text": [
      "grades info\n"
     ]
    }
   ],
   "source": [
    "class students_grades:\n",
    "    __grades = \"grades info\"\n",
    "    \n",
    "    def test(self):\n",
    "        print(self.__grades)\n",
    "        \n",
    "object1 = students_grades()\n",
    "\n",
    "object1.test()"
   ]
  },
  {
   "cell_type": "code",
   "execution_count": 3,
   "id": "59888fbb",
   "metadata": {},
   "outputs": [
    {
     "name": "stdout",
     "output_type": "stream",
     "text": [
      "This is a hidden course\n"
     ]
    }
   ],
   "source": [
    "class iNeuron_courses:\n",
    "    __course = \"This is a hidden course\"\n",
    "\n",
    "    def view(self):\n",
    "        print(self.__course)\n",
    "        \n",
    "object1 = iNeuron_courses()\n",
    "\n",
    "object1.view()"
   ]
  },
  {
   "cell_type": "code",
   "execution_count": 4,
   "id": "98fe1f01",
   "metadata": {},
   "outputs": [
    {
     "name": "stdout",
     "output_type": "stream",
     "text": [
      "article test data\n"
     ]
    }
   ],
   "source": [
    "class iNeuron_blogs:\n",
    "    __article = \"article test data\"\n",
    "\n",
    "    def hello(self):\n",
    "        print(self.__article)\n",
    "        \n",
    "object1 = iNeuron_blogs()\n",
    "\n",
    "object1.hello()"
   ]
  },
  {
   "cell_type": "code",
   "execution_count": 5,
   "id": "6ae77d15",
   "metadata": {},
   "outputs": [
    {
     "name": "stdout",
     "output_type": "stream",
     "text": [
      "confidential info\n"
     ]
    }
   ],
   "source": [
    "class students:\n",
    "    __info = \"confidential info\"\n",
    "    \n",
    "    def see(self):\n",
    "        print(self.__info)\n",
    "        \n",
    "object1 = students()\n",
    "\n",
    "object1.see()"
   ]
  },
  {
   "cell_type": "code",
   "execution_count": 6,
   "id": "601bb677",
   "metadata": {},
   "outputs": [
    {
     "name": "stdout",
     "output_type": "stream",
     "text": [
      "test data\n"
     ]
    }
   ],
   "source": [
    "class tasks:\n",
    "    __hidden = \"test data\"\n",
    "    \n",
    "    def hi(self):\n",
    "        print(self.__hidden)\n",
    "        \n",
    "object1 = tasks()\n",
    "\n",
    "object1.hi()"
   ]
  },
  {
   "cell_type": "code",
   "execution_count": 7,
   "id": "889fa6cf",
   "metadata": {},
   "outputs": [
    {
     "name": "stdout",
     "output_type": "stream",
     "text": [
      "Some hidden info\n"
     ]
    }
   ],
   "source": [
    "class Hall_of_Fame:\n",
    "    __hof = \"Some hidden info\"\n",
    "\n",
    "    def view(self):\n",
    "        print(self.__hof)\n",
    "        \n",
    "object1 = Hall_of_Fame()\n",
    "\n",
    "object1.view()"
   ]
  },
  {
   "cell_type": "code",
   "execution_count": 8,
   "id": "f63c5d61",
   "metadata": {},
   "outputs": [
    {
     "name": "stdout",
     "output_type": "stream",
     "text": [
      "affiliate link\n"
     ]
    }
   ],
   "source": [
    "class Affiliate:\n",
    "    __link = \"affiliate link\"\n",
    "    \n",
    "    def test(self):\n",
    "        print(self.__link)\n",
    "        \n",
    "object1 = Affiliate()\n",
    "\n",
    "object1.test()"
   ]
  },
  {
   "cell_type": "code",
   "execution_count": 9,
   "id": "0600f90c",
   "metadata": {},
   "outputs": [
    {
     "name": "stdout",
     "output_type": "stream",
     "text": [
      "hidden test data\n"
     ]
    }
   ],
   "source": [
    "class Internship:\n",
    "    __hidden = \"hidden test data\"\n",
    "\n",
    "    def One(self):\n",
    "        print(self.__hidden)\n",
    "        \n",
    "object1 = Internship()\n",
    "\n",
    "object1.One()"
   ]
  },
  {
   "cell_type": "code",
   "execution_count": 10,
   "id": "0cf5f02b",
   "metadata": {},
   "outputs": [
    {
     "name": "stdout",
     "output_type": "stream",
     "text": [
      "hidden assignments\n"
     ]
    }
   ],
   "source": [
    "class assignments:\n",
    "    __HiddenInfo = \"hidden assignments\"\n",
    "    \n",
    "    def see1(self):\n",
    "        print(self.__HiddenInfo)\n",
    "        \n",
    "object1 = assignments()\n",
    "\n",
    "object1.see1()"
   ]
  },
  {
   "cell_type": "markdown",
   "id": "f1877918",
   "metadata": {},
   "source": [
    "### Encapsulation - 10 Examples"
   ]
  },
  {
   "cell_type": "code",
   "execution_count": 11,
   "id": "ea9fde94",
   "metadata": {},
   "outputs": [
    {
     "name": "stdout",
     "output_type": "stream",
     "text": [
      "query22@ineuron.ai\n",
      "query@ineuron.ai\n"
     ]
    }
   ],
   "source": [
    "class iNeuron_ContactUs:\n",
    "\n",
    "    def __init__(self):\n",
    "        self.__test = 'query22@ineuron.ai'\n",
    "\n",
    "    def add1(self):\n",
    "        self.__test = 'query@ineuron.ai'\n",
    "    \n",
    "    def print1(self):\n",
    "        print(self.__test)\n",
    "        \n",
    "object1 = iNeuron_ContactUs()\n",
    "\n",
    "object1.print1() \n",
    "\n",
    "object1.add1()\n",
    "\n",
    "object1.print1()"
   ]
  },
  {
   "cell_type": "code",
   "execution_count": 12,
   "id": "7fd71809",
   "metadata": {},
   "outputs": [
    {
     "name": "stdout",
     "output_type": "stream",
     "text": [
      "abcd1234\n",
      "abcd1234\n",
      "password changed\n",
      "new123\n"
     ]
    }
   ],
   "source": [
    "class iNeuron_password_change:\n",
    "    def __init__(self):\n",
    "        self.__pass1 = \"abcd1234\"\n",
    "\n",
    "    def change_pass(self):\n",
    "        self.__pass1 = 'new123'\n",
    "        print(\"password changed\")\n",
    "    \n",
    "    def print_pass(self):\n",
    "        print(self.__pass1)\n",
    "        \n",
    "object1 = iNeuron_password_change()\n",
    "\n",
    "object1.print_pass()  #prints current value of __pass1\n",
    "\n",
    "object1.__pass1 = \"new123\"\n",
    "\n",
    "object1.print_pass()  # Change did not happen.\n",
    "\n",
    "object1.change_pass()  #changes current value of __pass1 to \"new123\"\n",
    "\n",
    "object1.print_pass()\n"
   ]
  },
  {
   "cell_type": "code",
   "execution_count": 13,
   "id": "7da1ab28",
   "metadata": {},
   "outputs": [
    {
     "name": "stdout",
     "output_type": "stream",
     "text": [
      "['Person1', 'Person2']\n",
      "['Person1', 'Person2', 'Person3', 'Person4']\n"
     ]
    }
   ],
   "source": [
    "class hall_of_fame:\n",
    "\n",
    "    def __init__(self):\n",
    "        self.__test = ['Person1','Person2']\n",
    "\n",
    "    def add1(self):\n",
    "        self.__test = ['Person1','Person2', 'Person3', 'Person4']\n",
    "    \n",
    "    def print1(self):\n",
    "        print(self.__test)\n",
    "        \n",
    "object1 = hall_of_fame()\n",
    "\n",
    "object1.print1() \n",
    "\n",
    "object1.add1()\n",
    "\n",
    "object1.print1()"
   ]
  },
  {
   "cell_type": "code",
   "execution_count": 14,
   "id": "0a01a055",
   "metadata": {},
   "outputs": [
    {
     "name": "stdout",
     "output_type": "stream",
     "text": [
      "['Internship1', 'Internship2']\n"
     ]
    }
   ],
   "source": [
    "class internship:\n",
    "\n",
    "    def __init__(self):\n",
    "        self.__iProjects = ['Internship1']\n",
    "\n",
    "    def add1(self):\n",
    "        self.__iProjects = ['Internship1', 'Internship2']\n",
    "    \n",
    "    def print1(self):\n",
    "        print(self.__iProjects)\n",
    "        \n",
    "object1 = internship()\n",
    "\n",
    "object1.add1()\n",
    "\n",
    "object1.print1() "
   ]
  },
  {
   "cell_type": "code",
   "execution_count": 15,
   "id": "eae3387f",
   "metadata": {},
   "outputs": [
    {
     "name": "stdout",
     "output_type": "stream",
     "text": [
      "Assignment1\n",
      "Assignment2\n"
     ]
    }
   ],
   "source": [
    "class assignment:\n",
    "\n",
    "    def __init__(self):\n",
    "        self.__test = 'Assignment1'\n",
    "\n",
    "    def add1(self):\n",
    "        self.__test = 'Assignment2'\n",
    "    \n",
    "    def print1(self):\n",
    "        print(self.__test)\n",
    "        \n",
    "object1 = assignment()\n",
    "\n",
    "object1.print1() \n",
    "\n",
    "object1.add1()\n",
    "\n",
    "object1.print1() "
   ]
  },
  {
   "cell_type": "code",
   "execution_count": 16,
   "id": "1e95d791",
   "metadata": {},
   "outputs": [
    {
     "name": "stdout",
     "output_type": "stream",
     "text": [
      "['FSDS', 'Big Data']\n",
      "['FSDS', 'Big Data']\n",
      "['FSDS', 'Big Data', 'Statistics']\n"
     ]
    }
   ],
   "source": [
    "class iNeuron_courses:\n",
    "    def __init__(self):\n",
    "        self.__CourseList = [\"FSDS\", \"Big Data\"]\n",
    "\n",
    "    def add_courses(self):\n",
    "        self.__CourseList = ['FSDS', 'Big Data', 'Statistics']\n",
    "    \n",
    "    def print_courses(self):\n",
    "        print(self.__CourseList)\n",
    "        \n",
    "object1 = iNeuron_courses()\n",
    "\n",
    "object1.print_courses()  # Prints [\"FSDS\", \"Big Data\"]\n",
    "\n",
    "object1.__CourseList = [\"One\"]\n",
    "\n",
    "object1.print_courses()  # No change. Prints [\"FSDS\", \"Big Data\"]\n",
    "\n",
    "object1.add_courses()\n",
    "\n",
    "object1.print_courses()  # changes the list to ['FSDS', 'Big Data', 'Statistics']"
   ]
  },
  {
   "cell_type": "code",
   "execution_count": 17,
   "id": "4175dbfb",
   "metadata": {},
   "outputs": [
    {
     "name": "stdout",
     "output_type": "stream",
     "text": [
      "('Task1', 'Task2')\n",
      "Task3\n"
     ]
    }
   ],
   "source": [
    "class task:\n",
    "\n",
    "    def __init__(self):\n",
    "        self.__test = ('Task1', 'Task2')\n",
    "\n",
    "    def add1(self):\n",
    "        self.__test = 'Task3'\n",
    "    \n",
    "    def print1(self):\n",
    "        print(self.__test)\n",
    "        \n",
    "object1 = task()\n",
    "\n",
    "object1.print1() \n",
    "\n",
    "object1.add1()\n",
    "\n",
    "object1.print1()"
   ]
  },
  {
   "cell_type": "code",
   "execution_count": 18,
   "id": "43efe160",
   "metadata": {},
   "outputs": [
    {
     "name": "stdout",
     "output_type": "stream",
     "text": [
      "This is a blog description\n",
      "This is good\n"
     ]
    }
   ],
   "source": [
    "class blog:\n",
    "\n",
    "    def __init__(self):\n",
    "        self.__test = \"This is a blog description\"\n",
    "\n",
    "    def add1(self):\n",
    "        self.__test = \"This is good\"\n",
    "    \n",
    "    def print1(self):\n",
    "        print(self.__test)\n",
    "        \n",
    "object1 = blog()\n",
    "\n",
    "object1.print1() \n",
    "\n",
    "object1.add1()\n",
    "\n",
    "object1.print1()"
   ]
  },
  {
   "cell_type": "code",
   "execution_count": 19,
   "id": "020831d7",
   "metadata": {},
   "outputs": [
    {
     "name": "stdout",
     "output_type": "stream",
     "text": [
      "Old Affiliate Link\n",
      "New Affiliate link\n"
     ]
    }
   ],
   "source": [
    "class affiliate:\n",
    "\n",
    "    def __init__(self):\n",
    "        self.__test = \"Old Affiliate Link\"\n",
    "\n",
    "    def add1(self):\n",
    "        self.__test = \"New Affiliate link\"\n",
    "    \n",
    "    def print1(self):\n",
    "        print(self.__test)\n",
    "        \n",
    "object1 = affiliate()\n",
    "\n",
    "object1.print1() \n",
    "\n",
    "object1.add1()\n",
    "\n",
    "object1.print1()"
   ]
  },
  {
   "cell_type": "code",
   "execution_count": 20,
   "id": "51022a13",
   "metadata": {},
   "outputs": [
    {
     "name": "stdout",
     "output_type": "stream",
     "text": [
      "['Mentor1']\n",
      "['Mentor1 and Mentor2']\n"
     ]
    }
   ],
   "source": [
    "class mentors:\n",
    "\n",
    "    def __init__(self):\n",
    "        self.__test = ['Mentor1']\n",
    "\n",
    "    def add1(self):\n",
    "        self.__test = ['Mentor1 and Mentor2']\n",
    "    \n",
    "    def print1(self):\n",
    "        print(self.__test)\n",
    "        \n",
    "object1 = mentors()\n",
    "\n",
    "object1.print1() \n",
    "\n",
    "object1.add1()\n",
    "\n",
    "object1.print1()"
   ]
  },
  {
   "cell_type": "markdown",
   "id": "060a5d7c",
   "metadata": {},
   "source": [
    "### Polymorphism - 10 Examples"
   ]
  },
  {
   "cell_type": "code",
   "execution_count": 21,
   "id": "7881bf6b",
   "metadata": {},
   "outputs": [
    {
     "name": "stdout",
     "output_type": "stream",
     "text": [
      "This is training page of iNeuron\n",
      "This is internship page of iNeuron\n"
     ]
    }
   ],
   "source": [
    "class iNeuron_training:\n",
    "    def test_print(self):\n",
    "        print(\"This is training page of iNeuron\")\n",
    "class iNeuron_internship:\n",
    "    def test_print(self):\n",
    "        print(\"This is internship page of iNeuron\")\n",
    "\n",
    "object1 = iNeuron_training()\n",
    "object2 = iNeuron_internship()\n",
    "\n",
    "object1.test_print()\n",
    "object2.test_print()\n",
    "    "
   ]
  },
  {
   "cell_type": "code",
   "execution_count": 22,
   "id": "d83621c4",
   "metadata": {},
   "outputs": [
    {
     "name": "stdout",
     "output_type": "stream",
     "text": [
      "140\n",
      "140\n"
     ]
    }
   ],
   "source": [
    "class iNeuron_FSDS:\n",
    "    def total_FSDS_students(self, a):  # a will be a tuple or list of present and absent students\n",
    "        self.a = a\n",
    "        return sum(self.a)\n",
    "    \n",
    "a = iNeuron_FSDS()\n",
    "print(a.total_FSDS_students((120,20))) # Tuple Argument: 120 present, 20 absent\n",
    "print(a.total_FSDS_students([120,20])) # List Argument"
   ]
  },
  {
   "cell_type": "code",
   "execution_count": 23,
   "id": "04e69dac",
   "metadata": {
    "scrolled": true
   },
   "outputs": [
    {
     "name": "stdout",
     "output_type": "stream",
     "text": [
      "14\n",
      "2\n"
     ]
    }
   ],
   "source": [
    "class iNeuron_Internship:\n",
    "    def topics(self,x):\n",
    "        return len(x)\n",
    "\n",
    "a = iNeuron_Internship()\n",
    " \n",
    "print(a.topics(\"Data Analytics\"))             # String Argument\n",
    "print(a.topics([\"Big Data\", \"Data Science\"])) # List Argument"
   ]
  },
  {
   "cell_type": "code",
   "execution_count": 24,
   "id": "001a4243",
   "metadata": {},
   "outputs": [
    {
     "name": "stdout",
     "output_type": "stream",
     "text": [
      "Hello\n",
      "Hi\n"
     ]
    }
   ],
   "source": [
    "class iNeuron_homepage:\n",
    "    def greeting(self):\n",
    "        print(\"Hello\")\n",
    "class iNeuron_contactus_page:\n",
    "    def greeting(self):\n",
    "        print(\"Hi\")\n",
    "\n",
    "object1 = iNeuron_homepage()\n",
    "object2 = iNeuron_contactus_page()\n",
    "\n",
    "object1.greeting()\n",
    "object2.greeting()"
   ]
  },
  {
   "cell_type": "code",
   "execution_count": 25,
   "id": "24f29c9f",
   "metadata": {},
   "outputs": [
    {
     "name": "stdout",
     "output_type": "stream",
     "text": [
      "Assignment Submitted\n",
      "Task Submitted\n"
     ]
    }
   ],
   "source": [
    "class assignment:\n",
    "    def submit(self):\n",
    "        print(\"Assignment Submitted\")\n",
    "class task:\n",
    "    def submit(self):\n",
    "        print(\"Task Submitted\")\n",
    "        \n",
    "object1 = assignment()\n",
    "object2 = task()\n",
    "\n",
    "object1.submit()\n",
    "object2.submit()"
   ]
  },
  {
   "cell_type": "code",
   "execution_count": 26,
   "id": "e792ae90",
   "metadata": {},
   "outputs": [
    {
     "name": "stdout",
     "output_type": "stream",
     "text": [
      "2\n",
      "9\n"
     ]
    }
   ],
   "source": [
    "class iNeuron:\n",
    "    def programs(self,x):\n",
    "        return len(x)\n",
    "    \n",
    "object_1 = iNeuron()\n",
    "\n",
    "print(object_1.programs(['Big Data Full Stack', 'Web Development'])) # List Argument\n",
    "print(object_1.programs('FSDS May7')) # String Argument"
   ]
  },
  {
   "cell_type": "code",
   "execution_count": 27,
   "id": "f906d9e7",
   "metadata": {},
   "outputs": [
    {
     "name": "stdout",
     "output_type": "stream",
     "text": [
      "FSDS May 7 Batch\n",
      "7\n"
     ]
    }
   ],
   "source": [
    "class iNeuron:\n",
    "    def join_things(self,a,b):\n",
    "        return a+b\n",
    "\n",
    "obj1 = iNeuron()\n",
    "a = obj1.join_things(\"FSDS \", \"May 7 Batch\")\n",
    "print(a)\n",
    "\n",
    "obj2 = iNeuron()\n",
    "students_present, absent = 3, 4\n",
    "a = obj2.join_things(students_present, absent)\n",
    "print(a)"
   ]
  },
  {
   "cell_type": "code",
   "execution_count": 28,
   "id": "cb9d12d3",
   "metadata": {},
   "outputs": [
    {
     "name": "stdout",
     "output_type": "stream",
     "text": [
      "The mentor's name is Sudhanshu\n",
      "The student's name is Sharat\n"
     ]
    }
   ],
   "source": [
    "class iNeuron_mentor:\n",
    "    def print_text(self,a):\n",
    "        self.a = a\n",
    "        print(f\"The mentor\\'s name is {self.a}\")\n",
    "\n",
    "class iNeuron_student:\n",
    "    def print_text(self,a):\n",
    "        self.a = a\n",
    "        print(f\"The student\\'s name is {self.a}\")\n",
    "        \n",
    "mentor = iNeuron_mentor()\n",
    "student = iNeuron_student()\n",
    "\n",
    "mentor.print_text(\"Sudhanshu\")\n",
    "student.print_text(\"Sharat\")"
   ]
  },
  {
   "cell_type": "code",
   "execution_count": 29,
   "id": "cb06f099",
   "metadata": {},
   "outputs": [
    {
     "name": "stdout",
     "output_type": "stream",
     "text": [
      "2\n",
      "2\n"
     ]
    }
   ],
   "source": [
    "class iNeuron_courses:\n",
    "    def len(self, x):\n",
    "        return len(x)\n",
    "\n",
    "x = iNeuron_courses()\n",
    "dict1 = {'Data Science' : '2', 'Big Data': '4'}\n",
    "list1 = ['Data Science', 'Big Data']\n",
    "\n",
    "print(x.len(dict1))\n",
    "print(x.len(list1))"
   ]
  },
  {
   "cell_type": "code",
   "execution_count": 30,
   "id": "af3c7d4f",
   "metadata": {
    "scrolled": true
   },
   "outputs": [
    {
     "name": "stdout",
     "output_type": "stream",
     "text": [
      "Programming is interesting\n",
      "Statistics is interesting\n"
     ]
    }
   ],
   "source": [
    "class iNeuron_programming:\n",
    "    def test(self):\n",
    "        print(\"Programming is interesting\")\n",
    "class iNeuron_statistics:\n",
    "    def test(self):\n",
    "        print(\"Statistics is interesting\")\n",
    "    \n",
    "object1 = iNeuron_programming()\n",
    "object2 = iNeuron_statistics()\n",
    "\n",
    "object1.test()\n",
    "object2.test()"
   ]
  },
  {
   "cell_type": "markdown",
   "id": "f67daecf",
   "metadata": {},
   "source": [
    "### Method Overriding - 10 Examples"
   ]
  },
  {
   "cell_type": "code",
   "execution_count": 31,
   "id": "3e95193b",
   "metadata": {},
   "outputs": [
    {
     "data": {
      "text/plain": [
       "'23'"
      ]
     },
     "execution_count": 31,
     "metadata": {},
     "output_type": "execute_result"
    }
   ],
   "source": [
    "# Example 1\n",
    "\n",
    "class iNeuron_mentor:\n",
    "    def new(self,a,b):\n",
    "        return a+b\n",
    "    \n",
    "class student(iNeuron_mentor):\n",
    "    def new(self,a,b):\n",
    "        return str(a)+str(b)\n",
    "    \n",
    "obj = student()\n",
    "obj.new(2,3)  # child class method is considered"
   ]
  },
  {
   "cell_type": "code",
   "execution_count": 32,
   "id": "983d6b25",
   "metadata": {},
   "outputs": [
    {
     "data": {
      "text/plain": [
       "4"
      ]
     },
     "execution_count": 32,
     "metadata": {},
     "output_type": "execute_result"
    }
   ],
   "source": [
    "# Example 2\n",
    "\n",
    "class iNeuron_students:\n",
    "    def one(self,a):\n",
    "        return a\n",
    "\n",
    "class iNeuron_programming(iNeuron_students):\n",
    "    def one(self,a):\n",
    "        return a+1\n",
    "\n",
    "obj = iNeuron_programming()\n",
    "obj.one(3)"
   ]
  },
  {
   "cell_type": "code",
   "execution_count": 33,
   "id": "cc6e92dd",
   "metadata": {},
   "outputs": [
    {
     "data": {
      "text/plain": [
       "True"
      ]
     },
     "execution_count": 33,
     "metadata": {},
     "output_type": "execute_result"
    }
   ],
   "source": [
    "#Example 3\n",
    "\n",
    "class iNeuron_trainer1:\n",
    "    def test(self):\n",
    "        return False\n",
    "class iNeuron_trainer2(iNeuron_trainer1):\n",
    "    def test(self):\n",
    "        return True\n",
    "\n",
    "b = iNeuron_trainer2()\n",
    "b.test()"
   ]
  },
  {
   "cell_type": "code",
   "execution_count": 34,
   "id": "eab599a8",
   "metadata": {},
   "outputs": [
    {
     "data": {
      "text/plain": [
       "'1'"
      ]
     },
     "execution_count": 34,
     "metadata": {},
     "output_type": "execute_result"
    }
   ],
   "source": [
    "# Example 4\n",
    "\n",
    "class FSDS:\n",
    "    def one(self):\n",
    "        return \"one\"\n",
    "class DS(FSDS):\n",
    "    def one(self):\n",
    "        return \"1\"\n",
    "    \n",
    "obj = DS()\n",
    "obj.one()"
   ]
  },
  {
   "cell_type": "code",
   "execution_count": 35,
   "id": "82cda773",
   "metadata": {},
   "outputs": [
    {
     "name": "stdout",
     "output_type": "stream",
     "text": [
      "abc\n"
     ]
    }
   ],
   "source": [
    "# Example 5\n",
    "\n",
    "class iNeuron_FSDS:\n",
    "    def word(self):\n",
    "        print(\"ABC\")\n",
    "\n",
    "class iNeuron(iNeuron_FSDS):\n",
    "    def word(self):\n",
    "        print(\"abc\")\n",
    "        \n",
    "obj = iNeuron()\n",
    "obj.word()"
   ]
  },
  {
   "cell_type": "code",
   "execution_count": 36,
   "id": "07fc8d6c",
   "metadata": {},
   "outputs": [
    {
     "name": "stdout",
     "output_type": "stream",
     "text": [
      "False\n"
     ]
    }
   ],
   "source": [
    "#Example 6:\n",
    "\n",
    "class iNeuron_student1:\n",
    "    def test(self):\n",
    "        print(True)\n",
    "class student2(iNeuron_student1):\n",
    "    def test(self):\n",
    "        print(False)\n",
    "\n",
    "obj = student2()\n",
    "obj.test()"
   ]
  },
  {
   "cell_type": "code",
   "execution_count": 37,
   "id": "2450dffa",
   "metadata": {},
   "outputs": [
    {
     "name": "stdout",
     "output_type": "stream",
     "text": [
      "40\n"
     ]
    }
   ],
   "source": [
    "#Example 7:\n",
    "class iNeuron1:\n",
    "    def num(self,a,b):\n",
    "        print(a+b)\n",
    "class iNeuron2(iNeuron1):\n",
    "    def num(self,a,b):\n",
    "        print(a*b)\n",
    "obj = iNeuron2()\n",
    "obj.num(4,10)"
   ]
  },
  {
   "cell_type": "code",
   "execution_count": 38,
   "id": "9ffa97de",
   "metadata": {},
   "outputs": [
    {
     "name": "stdout",
     "output_type": "stream",
     "text": [
      "Child\n"
     ]
    }
   ],
   "source": [
    "#Example 8:\n",
    "class DS:\n",
    "    def word(self):\n",
    "        print(\"Parent\")\n",
    "class FSDS(DS):\n",
    "    def word(self):\n",
    "        print(\"Child\")\n",
    "\n",
    "obj = FSDS()\n",
    "obj.word()"
   ]
  },
  {
   "cell_type": "code",
   "execution_count": 39,
   "id": "09047b0c",
   "metadata": {},
   "outputs": [
    {
     "name": "stdout",
     "output_type": "stream",
     "text": [
      "a\n"
     ]
    }
   ],
   "source": [
    "#Example 9\n",
    "\n",
    "class iNeuron:\n",
    "    def test(self):\n",
    "        print([1,2,3])\n",
    "class Tech_Neuron(iNeuron):\n",
    "    def test(self):\n",
    "        print(\"a\")\n",
    "obj = Tech_Neuron()\n",
    "obj.test()"
   ]
  },
  {
   "cell_type": "code",
   "execution_count": 40,
   "id": "879680d4",
   "metadata": {},
   "outputs": [
    {
     "name": "stdout",
     "output_type": "stream",
     "text": [
      "second\n"
     ]
    }
   ],
   "source": [
    "#Example 10\n",
    "\n",
    "class iNeuron1:\n",
    "    def word(self):\n",
    "        print(\"first\")\n",
    "class iNeuron2(iNeuron1):\n",
    "    def word(self):\n",
    "        print(\"second\")\n",
    "obj = iNeuron2()\n",
    "obj.word()"
   ]
  }
 ],
 "metadata": {
  "kernelspec": {
   "display_name": "Python 3 (ipykernel)",
   "language": "python",
   "name": "python3"
  },
  "language_info": {
   "codemirror_mode": {
    "name": "ipython",
    "version": 3
   },
   "file_extension": ".py",
   "mimetype": "text/x-python",
   "name": "python",
   "nbconvert_exporter": "python",
   "pygments_lexer": "ipython3",
   "version": "3.9.12"
  }
 },
 "nbformat": 4,
 "nbformat_minor": 5
}
