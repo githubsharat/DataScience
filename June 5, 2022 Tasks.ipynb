{
 "cells": [
  {
   "cell_type": "raw",
   "id": "1668cc69",
   "metadata": {},
   "source": [
    "Tasks:\n",
    "1. Print prime numbers in between 1 to 1000\n",
    "2. write a function which is equivalent to print function in python\n",
    "3. write a function which is a replica of list append, extend, and pop function\n",
    "4. Write a lambda function which can return a concatination of all the string that we will pass\n",
    "5. lambda function which can return list of square of all the data between 1-100 \n",
    "6. 10 different examples of lambda fuction witha choice of your tasks\n",
    "7. function which can perform a read operation from .txt file."
   ]
  },
  {
   "cell_type": "markdown",
   "id": "3391fad5",
   "metadata": {},
   "source": [
    "### 1. Print prime numbers between 1 and 1000"
   ]
  },
  {
   "cell_type": "code",
   "execution_count": 1,
   "id": "36298160",
   "metadata": {
    "scrolled": true
   },
   "outputs": [
    {
     "name": "stdout",
     "output_type": "stream",
     "text": [
      "The number of primes from 1 to 1000 are:  168\n",
      "The prime numbers from 1 to 1000 are:  [2, 3, 5, 7, 11, 13, 17, 19, 23, 29, 31, 37, 41, 43, 47, 53, 59, 61, 67, 71, 73, 79, 83, 89, 97, 101, 103, 107, 109, 113, 127, 131, 137, 139, 149, 151, 157, 163, 167, 173, 179, 181, 191, 193, 197, 199, 211, 223, 227, 229, 233, 239, 241, 251, 257, 263, 269, 271, 277, 281, 283, 293, 307, 311, 313, 317, 331, 337, 347, 349, 353, 359, 367, 373, 379, 383, 389, 397, 401, 409, 419, 421, 431, 433, 439, 443, 449, 457, 461, 463, 467, 479, 487, 491, 499, 503, 509, 521, 523, 541, 547, 557, 563, 569, 571, 577, 587, 593, 599, 601, 607, 613, 617, 619, 631, 641, 643, 647, 653, 659, 661, 673, 677, 683, 691, 701, 709, 719, 727, 733, 739, 743, 751, 757, 761, 769, 773, 787, 797, 809, 811, 821, 823, 827, 829, 839, 853, 857, 859, 863, 877, 881, 883, 887, 907, 911, 919, 929, 937, 941, 947, 953, 967, 971, 977, 983, 991, 997]\n"
     ]
    }
   ],
   "source": [
    "#Approach: \n",
    "\n",
    "#List all the mutiples of all the numbers (1 to 1000) together in one list\n",
    "\n",
    "#Check the frequency of each element of the list using count method: that is, list.count(element)\n",
    "\n",
    "#The elements in the list that have count() = 2 are primes because primes only have 2 multiples (1 and itself).\n",
    "\n",
    "multiples = []\n",
    "for i in range(1,1001): \n",
    "    for j in range(1,1001):\n",
    "        if i*j > 1000:\n",
    "            break\n",
    "        else:\n",
    "            multiples.append(i*j)\n",
    "\n",
    "multiples.remove(1)             # 1 is neither prime not composite. so removing it.\n",
    "primes = []\n",
    "for i in range(1,1001):\n",
    "    count = multiples.count(i) \n",
    "    if count == 2:               # primes have 2 multiples only (1 and itself)\n",
    "        primes.append(i)\n",
    "\n",
    "print(\"The number of primes from 1 to 1000 are: \", len(primes))\n",
    "print(\"The prime numbers from 1 to 1000 are: \", primes)\n"
   ]
  },
  {
   "cell_type": "markdown",
   "id": "c449d84f",
   "metadata": {},
   "source": [
    "### 2. Write a function which is equivalent to print function in python"
   ]
  },
  {
   "cell_type": "code",
   "execution_count": 2,
   "id": "915fb44f",
   "metadata": {},
   "outputs": [
    {
     "data": {
      "text/plain": [
       "'Hello'"
      ]
     },
     "execution_count": 2,
     "metadata": {},
     "output_type": "execute_result"
    }
   ],
   "source": [
    "#Approach: input can be any datatype. so, I'll convert input to string. Then use for-loop to extract letters and concatenate.\n",
    "\n",
    "def new_print(input):\n",
    "    input = str(input) \n",
    "    c = ''\n",
    "    for i in input:\n",
    "        c += i\n",
    "    return c\n",
    "\n",
    "new_print(\"Hello\")"
   ]
  },
  {
   "cell_type": "markdown",
   "id": "8fdd3221",
   "metadata": {},
   "source": [
    "### 3. Write a function which is a replica of list append, extend, and pop"
   ]
  },
  {
   "cell_type": "markdown",
   "id": "013ed417",
   "metadata": {},
   "source": [
    "### Extend"
   ]
  },
  {
   "cell_type": "code",
   "execution_count": 3,
   "id": "5787fd63",
   "metadata": {},
   "outputs": [
    {
     "data": {
      "text/plain": [
       "{'1', '2', '4', '5'}"
      ]
     },
     "execution_count": 3,
     "metadata": {},
     "output_type": "execute_result"
    }
   ],
   "source": [
    "#extend method can be only used on list, tuple, set, or string.\n",
    "#following code works for all the scenarios\n",
    "  \n",
    "def new_extend(a,b):\n",
    "    if type(a) == type(b) == str:\n",
    "        return a+b\n",
    "    if type(a) in [list,tuple,set] and type(b) in [list,tuple,set]:\n",
    "        c = \"\"\n",
    "        c1= \"\"\n",
    "        for i in a:                    #for-loop to convert to string        \n",
    "            c = c + '*' + str(i)\n",
    "        c = c.lstrip('*')\n",
    "        for i in b:\n",
    "            c1 = c1 + '*' + str(i)      #using * to seperate elements\n",
    "        c1 = c1.lstrip('*')\n",
    "        new_string = c + '*' + c1\n",
    "        new_string = new_string.split('*')  #converts to list\n",
    "        if type(a) == type(b) == set:\n",
    "            new_string = set(new_string)    #convert datatype of output to set\n",
    "        if  type(a) == type(b) == tuple:\n",
    "            new_string = tuple(new_string)  #convert datatype of output to tuple\n",
    "        return new_string\n",
    "    if type(a) != type(b):                  #throws message saying datatypes should be same\n",
    "        print(\"Datatypes of a and b should be same. They can only be string, list, tuple, or set\")\n",
    "        \n",
    " \n",
    "                \n",
    "        \n",
    "#a, b should be same datatype and can only be string, list, tuple, set\n",
    "#if by accident, any other datatypes are used, a message is shown as output\n",
    "\n",
    "a = {1,2}\n",
    "b = {4,5}\n",
    "\n",
    "new_extend(a,b)"
   ]
  },
  {
   "cell_type": "markdown",
   "id": "311cdfe5",
   "metadata": {},
   "source": [
    "### Append"
   ]
  },
  {
   "cell_type": "code",
   "execution_count": 4,
   "id": "27e83b9e",
   "metadata": {},
   "outputs": [
    {
     "data": {
      "text/plain": [
       "['2', '35', 'abc', 'Hello']"
      ]
     },
     "execution_count": 4,
     "metadata": {},
     "output_type": "execute_result"
    }
   ],
   "source": [
    "#Replicate append method using functions. \n",
    "\n",
    "def new_append(list_1,string_1):\n",
    "    if type(list_1) == list and type(string_1) == str:\n",
    "        a = list_1\n",
    "        b = string_1\n",
    "        c = \"\"                   \n",
    "        for i in a:              #for-loop to convert to string\n",
    "            c = c + '*' + str(i) #using * to seperate elements\n",
    "        c = c.lstrip('*')\n",
    "        c = c + '*' + b\n",
    "        return c.split('*')      #converts to list\n",
    "    else:\n",
    "        if type(list_1) != list:\n",
    "            print(\"Please use list datatype for list_1\")\n",
    "        if type(string_1) != str:\n",
    "            print(\"Please use string datatype for string_1\")\n",
    "\n",
    "list_1 = [2,35,\"abc\"]\n",
    "string_1 = \"Hello\"\n",
    "\n",
    "new_append(list_1, string_1)"
   ]
  },
  {
   "cell_type": "markdown",
   "id": "9712065e",
   "metadata": {},
   "source": [
    "### Pop"
   ]
  },
  {
   "cell_type": "code",
   "execution_count": 5,
   "id": "93b76f62",
   "metadata": {},
   "outputs": [
    {
     "data": {
      "text/plain": [
       "[1, 3, 4, 5, 6]"
      ]
     },
     "execution_count": 5,
     "metadata": {},
     "output_type": "execute_result"
    }
   ],
   "source": [
    "def new_pop(list_a, index):\n",
    "    if type(list_a) == list:\n",
    "        list_a.remove(list_a[index])\n",
    "        return list_a\n",
    "    else:\n",
    "        print(\"Please use list datatype for list_a\")\n",
    "    \n",
    "\n",
    "list_a = [1,2,3,4,5,6]\n",
    "index  = 1                         #index of the element that needs to be removed\n",
    "\n",
    "new_pop(list_a, index)"
   ]
  },
  {
   "cell_type": "markdown",
   "id": "882108cf",
   "metadata": {},
   "source": [
    "### 4. Write a lambda function which can return a concatination of all the string that we will pass"
   ]
  },
  {
   "cell_type": "code",
   "execution_count": 6,
   "id": "db244f4d",
   "metadata": {},
   "outputs": [
    {
     "data": {
      "text/plain": [
       "'IwanttoexcelinFSDS'"
      ]
     },
     "execution_count": 6,
     "metadata": {},
     "output_type": "execute_result"
    }
   ],
   "source": [
    "l = ['I', 'want', 'to', 'excel', 'in', 'FSDS']\n",
    "\n",
    "from functools import reduce\n",
    "\n",
    "reduce(lambda a,b: a+b, l)"
   ]
  },
  {
   "cell_type": "code",
   "execution_count": 7,
   "id": "627c0a82",
   "metadata": {},
   "outputs": [
    {
     "data": {
      "text/plain": [
       "['Hello', 'There']"
      ]
     },
     "execution_count": 7,
     "metadata": {},
     "output_type": "execute_result"
    }
   ],
   "source": [
    "x = lambda *s, c='': [c+i for i in s]\n",
    "x('Hello', 'There')"
   ]
  },
  {
   "cell_type": "markdown",
   "id": "8041e9ac",
   "metadata": {},
   "source": [
    "### 5. Lambda function which can return list of square of all the data between 1-100"
   ]
  },
  {
   "cell_type": "code",
   "execution_count": 8,
   "id": "62ee1693",
   "metadata": {},
   "outputs": [
    {
     "data": {
      "text/plain": [
       "[1,\n",
       " 4,\n",
       " 9,\n",
       " 16,\n",
       " 25,\n",
       " 36,\n",
       " 49,\n",
       " 64,\n",
       " 81,\n",
       " 100,\n",
       " 121,\n",
       " 144,\n",
       " 169,\n",
       " 196,\n",
       " 225,\n",
       " 256,\n",
       " 289,\n",
       " 324,\n",
       " 361,\n",
       " 400,\n",
       " 441,\n",
       " 484,\n",
       " 529,\n",
       " 576,\n",
       " 625,\n",
       " 676,\n",
       " 729,\n",
       " 784,\n",
       " 841,\n",
       " 900,\n",
       " 961,\n",
       " 1024,\n",
       " 1089,\n",
       " 1156,\n",
       " 1225,\n",
       " 1296,\n",
       " 1369,\n",
       " 1444,\n",
       " 1521,\n",
       " 1600,\n",
       " 1681,\n",
       " 1764,\n",
       " 1849,\n",
       " 1936,\n",
       " 2025,\n",
       " 2116,\n",
       " 2209,\n",
       " 2304,\n",
       " 2401,\n",
       " 2500,\n",
       " 2601,\n",
       " 2704,\n",
       " 2809,\n",
       " 2916,\n",
       " 3025,\n",
       " 3136,\n",
       " 3249,\n",
       " 3364,\n",
       " 3481,\n",
       " 3600,\n",
       " 3721,\n",
       " 3844,\n",
       " 3969,\n",
       " 4096,\n",
       " 4225,\n",
       " 4356,\n",
       " 4489,\n",
       " 4624,\n",
       " 4761,\n",
       " 4900,\n",
       " 5041,\n",
       " 5184,\n",
       " 5329,\n",
       " 5476,\n",
       " 5625,\n",
       " 5776,\n",
       " 5929,\n",
       " 6084,\n",
       " 6241,\n",
       " 6400,\n",
       " 6561,\n",
       " 6724,\n",
       " 6889,\n",
       " 7056,\n",
       " 7225,\n",
       " 7396,\n",
       " 7569,\n",
       " 7744,\n",
       " 7921,\n",
       " 8100,\n",
       " 8281,\n",
       " 8464,\n",
       " 8649,\n",
       " 8836,\n",
       " 9025,\n",
       " 9216,\n",
       " 9409,\n",
       " 9604,\n",
       " 9801,\n",
       " 10000]"
      ]
     },
     "execution_count": 8,
     "metadata": {},
     "output_type": "execute_result"
    }
   ],
   "source": [
    "x = lambda *a:[i**2 for i in range(1,101)]\n",
    "\n",
    "x()"
   ]
  },
  {
   "cell_type": "markdown",
   "id": "3bfe5209",
   "metadata": {},
   "source": [
    "### 6. 10 different examples of lambda fuction with a choice of your tasks"
   ]
  },
  {
   "cell_type": "code",
   "execution_count": 9,
   "id": "089fed65",
   "metadata": {},
   "outputs": [
    {
     "name": "stdout",
     "output_type": "stream",
     "text": [
      "True\n",
      "8\n",
      "[3, 4, 5, 6, 7, 8]\n",
      "6\n",
      "Good\n",
      "5\n",
      "7\n",
      "2\n",
      "[-1, 45, 23, 0, 25, -88]\n",
      "['odd']\n"
     ]
    }
   ],
   "source": [
    "prime_or_not = lambda num: all(num%i != 0 for i in range(2, int(num**.5)+1))\n",
    "print(prime_or_not(439))\n",
    "\n",
    "\n",
    "print((lambda x, y: x*y if (x//y == 2 and x+y==6) else 0)(4, 2))\n",
    "\n",
    "\n",
    "c = lambda *x: [i for i in range(3,9)]\n",
    "print(c())\n",
    "\n",
    "a = lambda x,y: x*y\n",
    "print(a(2,3))\n",
    "\n",
    "\n",
    "a = lambda x: x[:4]\n",
    "print(a('Good Morning'))\n",
    "\n",
    "\n",
    "a = lambda x,y: x+y\n",
    "print(a(2,3))\n",
    "\n",
    "\n",
    "x = lambda a: len(a)\n",
    "print(x('iNeuron'))\n",
    "\n",
    "\n",
    "y = lambda a : str(a).find('l')\n",
    "print(y('Hello'))\n",
    "\n",
    "\n",
    "num = [-1,45,23,0,25,-88]\n",
    "a = sorted(num, key=lambda x: x, reverse=True)\n",
    "print(num)\n",
    "\n",
    "\n",
    "even_odd = lambda x:['even' if x%2 == 0 else 'odd']\n",
    "print(even_odd(5))\n"
   ]
  },
  {
   "cell_type": "markdown",
   "id": "2e232a9f",
   "metadata": {},
   "source": [
    "### 7. Function which can perform a read operation from .txt file."
   ]
  },
  {
   "cell_type": "code",
   "execution_count": 11,
   "id": "0b70eca6",
   "metadata": {},
   "outputs": [
    {
     "data": {
      "text/plain": [
       "'this is my python program that I want to write into a file.\\nthis is my python program that I want to write into a file.\\nthis is my python program that I want to write into a file.\\nthis is my python program that I want to write into a file.\\nthis is my python program that I want to write into a file.\\nthis is my python program that I want to write into a file.\\nthis is my python program that I want to write into a file.\\nthis is my python program that I want to write into a file.\\nthis is my python program that I want to write into a file.\\n'"
      ]
     },
     "execution_count": 11,
     "metadata": {},
     "output_type": "execute_result"
    }
   ],
   "source": [
    "f = open('test5.txt', 'r') \n",
    "\n",
    "f.read()"
   ]
  },
  {
   "cell_type": "code",
   "execution_count": null,
   "id": "cff9cd7e",
   "metadata": {},
   "outputs": [],
   "source": []
  }
 ],
 "metadata": {
  "kernelspec": {
   "display_name": "Python 3 (ipykernel)",
   "language": "python",
   "name": "python3"
  },
  "language_info": {
   "codemirror_mode": {
    "name": "ipython",
    "version": 3
   },
   "file_extension": ".py",
   "mimetype": "text/x-python",
   "name": "python",
   "nbconvert_exporter": "python",
   "pygments_lexer": "ipython3",
   "version": "3.9.12"
  }
 },
 "nbformat": 4,
 "nbformat_minor": 5
}
