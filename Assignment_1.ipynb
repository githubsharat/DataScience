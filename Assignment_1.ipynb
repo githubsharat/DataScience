{
 "cells": [
  {
   "cell_type": "markdown",
   "id": "852168dd",
   "metadata": {},
   "source": [
    "**Assignment_1 Responses**"
   ]
  },
  {
   "cell_type": "markdown",
   "id": "42489ae9",
   "metadata": {},
   "source": [
    "1.  *       : expression\n",
    "    'hello' : variable\n",
    "    -87.8   : variable\n",
    "    -       : expression\n",
    "    /       : expression\n",
    "    +       : expression\n",
    "    6       : variable"
   ]
  },
  {
   "cell_type": "markdown",
   "id": "d307bb01",
   "metadata": {},
   "source": [
    "2. A string can be a variable\n",
    "   For example, a = 'hello' where a is a variable and 'hello' is a string."
   ]
  },
  {
   "cell_type": "markdown",
   "id": "373c9496",
   "metadata": {},
   "source": [
    "3. Integer, Float, String"
   ]
  },
  {
   "cell_type": "markdown",
   "id": "3bc1066a",
   "metadata": {},
   "source": [
    "4. Expression contains operators and operands which are used to produce a value. Expressions are used to assign value to a variable."
   ]
  },
  {
   "cell_type": "markdown",
   "id": "a90c6b70",
   "metadata": {},
   "source": [
    "5. spam = 10 is an expression. Statements are actions or commands such as a print statement. \n",
    "   for example. print(\"hello\") is a statement where as, a = 2 + 3 is an expression"
   ]
  },
  {
   "cell_type": "markdown",
   "id": "b52fa4d0",
   "metadata": {},
   "source": [
    "6. bacon contains 22  (because we did not assign bacon + 1 to bacon)."
   ]
  },
  {
   "cell_type": "markdown",
   "id": "c9de6a53",
   "metadata": {},
   "source": [
    "7.  'spamspamspam'\n",
    "    'spamspamspam'"
   ]
  },
  {
   "cell_type": "markdown",
   "id": "f9e47039",
   "metadata": {},
   "source": [
    "8. A variable name cannot begin with a number so 100 cannot be a variable name"
   ]
  },
  {
   "cell_type": "markdown",
   "id": "7757451e",
   "metadata": {},
   "source": [
    "9. int(), float(), str()"
   ]
  },
  {
   "cell_type": "markdown",
   "id": "d9567d36",
   "metadata": {},
   "source": [
    "10. 'I have eaten ' + 99 + ' burritos' gives an error because we cannot concatenate strings to an integer. \n",
    "\n",
    "    To fix the error mention '99' instead of 99 to make it a string\n",
    "\n",
    "    that is, 'I have eaten ' + '99' + ' burritos'"
   ]
  }
 ],
 "metadata": {
  "kernelspec": {
   "display_name": "Python 3 (ipykernel)",
   "language": "python",
   "name": "python3"
  },
  "language_info": {
   "codemirror_mode": {
    "name": "ipython",
    "version": 3
   },
   "file_extension": ".py",
   "mimetype": "text/x-python",
   "name": "python",
   "nbconvert_exporter": "python",
   "pygments_lexer": "ipython3",
   "version": "3.9.12"
  }
 },
 "nbformat": 4,
 "nbformat_minor": 5
}
