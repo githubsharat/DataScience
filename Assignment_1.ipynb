{
 "cells": [
  {
   "cell_type": "markdown",
   "id": "f51896bc",
   "metadata": {},
   "source": [
    "**Assignment_1 Responses**"
   ]
  },
  {
   "cell_type": "markdown",
   "id": "f46cbd10",
   "metadata": {},
   "source": [
    "Answer 1.  \n",
    "     \n",
    "     \\*     : expression\n",
    "\n",
    "    'hello' : variable\n",
    "    \n",
    "    -87.8   : variable\n",
    "    \n",
    "    \\-       : expression\n",
    "    \n",
    "    /       : expression\n",
    "    \n",
    "    \\+       : expression\n",
    "    \n",
    "    6       : variable\n",
    "    \n",
    "    \n",
    "Answer 2. \n",
    "\n",
    "  A string can be a variable. For example, a = 'hello' where a is a variable and 'hello' is a string.\n",
    "   \n",
    "   \n",
    "Answer 3. Integer, Float, String\n",
    "\n",
    "\n",
    "Answer 4. Expression contains operators and operands which are used to produce a value. Expressions are used to assign value to a variable.\n",
    "\n",
    "\n",
    "Answer 5. spam = 10 is an expression. Statements are actions or commands such as a print statement. \n",
    "   for example. print(\"hello\") is a statement where as, a = 2 + 3 is an expression\n",
    "  \n",
    "  \n",
    "Answer 6. bacon contains 22  (because we did not assign bacon + 1 to bacon).\n",
    "\n",
    "\n",
    "Answer 7.  'spamspamspam'\n",
    "           'spamspamspam'\n",
    " \n",
    " \n",
    "Answer 8. A variable name cannot begin with a number so 100 cannot be a variable name\n",
    "\n",
    "\n",
    "Answer 9. int(), float(), str()\n",
    "\n",
    "\n",
    "Answer 10. 'I have eaten ' + 99 + ' burritos' gives an error because we cannot concatenate strings to an integer. \n",
    "\n",
    "    To fix the error mention '99' instead of 99 to make it a string\n",
    "\n",
    "    that is, 'I have eaten ' + '99' + ' burritos'"
   ]
  },
  {
   "cell_type": "code",
   "execution_count": null,
   "id": "d28e9c6d",
   "metadata": {},
   "outputs": [],
   "source": []
  }
 ],
 "metadata": {
  "kernelspec": {
   "display_name": "Python 3 (ipykernel)",
   "language": "python",
   "name": "python3"
  },
  "language_info": {
   "codemirror_mode": {
    "name": "ipython",
    "version": 3
   },
   "file_extension": ".py",
   "mimetype": "text/x-python",
   "name": "python",
   "nbconvert_exporter": "python",
   "pygments_lexer": "ipython3",
   "version": "3.9.12"
  }
 },
 "nbformat": 4,
 "nbformat_minor": 5
}
